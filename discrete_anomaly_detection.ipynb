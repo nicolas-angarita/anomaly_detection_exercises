{
 "cells": [
  {
   "cell_type": "code",
   "execution_count": 1,
   "id": "9ec53dee",
   "metadata": {},
   "outputs": [],
   "source": [
    "import matplotlib.pyplot as plt\n",
    "import numpy as np\n",
    "import pandas as pd\n",
    "import seaborn as sns\n",
    "from sklearn import metrics\n",
    "import env"
   ]
  },
  {
   "cell_type": "code",
   "execution_count": 2,
   "id": "cff63ae0",
   "metadata": {},
   "outputs": [
    {
     "data": {
      "text/html": [
       "<div>\n",
       "<style scoped>\n",
       "    .dataframe tbody tr th:only-of-type {\n",
       "        vertical-align: middle;\n",
       "    }\n",
       "\n",
       "    .dataframe tbody tr th {\n",
       "        vertical-align: top;\n",
       "    }\n",
       "\n",
       "    .dataframe thead th {\n",
       "        text-align: right;\n",
       "    }\n",
       "</style>\n",
       "<table border=\"1\" class=\"dataframe\">\n",
       "  <thead>\n",
       "    <tr style=\"text-align: right;\">\n",
       "      <th></th>\n",
       "      <th>ip</th>\n",
       "      <th>timestamp</th>\n",
       "      <th>request_method</th>\n",
       "      <th>request_path</th>\n",
       "      <th>http_version</th>\n",
       "      <th>status_code</th>\n",
       "      <th>size</th>\n",
       "      <th>user_agent</th>\n",
       "    </tr>\n",
       "  </thead>\n",
       "  <tbody>\n",
       "    <tr>\n",
       "      <th>0</th>\n",
       "      <td>97.105.19.58</td>\n",
       "      <td>16/Apr/2019 19:34:42</td>\n",
       "      <td>GET</td>\n",
       "      <td>/api/v1/sales?page=81</td>\n",
       "      <td>HTTP/1.1</td>\n",
       "      <td>200</td>\n",
       "      <td>512495</td>\n",
       "      <td>python-requests/2.21.0</td>\n",
       "    </tr>\n",
       "    <tr>\n",
       "      <th>1</th>\n",
       "      <td>97.105.19.58</td>\n",
       "      <td>16/Apr/2019 19:34:42</td>\n",
       "      <td>GET</td>\n",
       "      <td>/api/v1/items</td>\n",
       "      <td>HTTP/1.1</td>\n",
       "      <td>200</td>\n",
       "      <td>3561</td>\n",
       "      <td>python-requests/2.21.0</td>\n",
       "    </tr>\n",
       "    <tr>\n",
       "      <th>2</th>\n",
       "      <td>97.105.19.58</td>\n",
       "      <td>16/Apr/2019 19:34:44</td>\n",
       "      <td>GET</td>\n",
       "      <td>/api/v1/sales?page=82</td>\n",
       "      <td>HTTP/1.1</td>\n",
       "      <td>200</td>\n",
       "      <td>510103</td>\n",
       "      <td>python-requests/2.21.0</td>\n",
       "    </tr>\n",
       "    <tr>\n",
       "      <th>3</th>\n",
       "      <td>97.105.19.58</td>\n",
       "      <td>16/Apr/2019 19:34:46</td>\n",
       "      <td>GET</td>\n",
       "      <td>/api/v1/sales?page=83</td>\n",
       "      <td>HTTP/1.1</td>\n",
       "      <td>200</td>\n",
       "      <td>510003</td>\n",
       "      <td>python-requests/2.21.0</td>\n",
       "    </tr>\n",
       "    <tr>\n",
       "      <th>4</th>\n",
       "      <td>97.105.19.58</td>\n",
       "      <td>16/Apr/2019 19:34:48</td>\n",
       "      <td>GET</td>\n",
       "      <td>/api/v1/sales?page=84</td>\n",
       "      <td>HTTP/1.1</td>\n",
       "      <td>200</td>\n",
       "      <td>511963</td>\n",
       "      <td>python-requests/2.21.0</td>\n",
       "    </tr>\n",
       "  </tbody>\n",
       "</table>\n",
       "</div>"
      ],
      "text/plain": [
       "             ip             timestamp request_method           request_path  \\\n",
       "0  97.105.19.58  16/Apr/2019 19:34:42            GET  /api/v1/sales?page=81   \n",
       "1  97.105.19.58  16/Apr/2019 19:34:42            GET          /api/v1/items   \n",
       "2  97.105.19.58  16/Apr/2019 19:34:44            GET  /api/v1/sales?page=82   \n",
       "3  97.105.19.58  16/Apr/2019 19:34:46            GET  /api/v1/sales?page=83   \n",
       "4  97.105.19.58  16/Apr/2019 19:34:48            GET  /api/v1/sales?page=84   \n",
       "\n",
       "  http_version status_code    size              user_agent  \n",
       "0     HTTP/1.1         200  512495  python-requests/2.21.0  \n",
       "1     HTTP/1.1         200    3561  python-requests/2.21.0  \n",
       "2     HTTP/1.1         200  510103  python-requests/2.21.0  \n",
       "3     HTTP/1.1         200  510003  python-requests/2.21.0  \n",
       "4     HTTP/1.1         200  511963  python-requests/2.21.0  "
      ]
     },
     "execution_count": 2,
     "metadata": {},
     "output_type": "execute_result"
    }
   ],
   "source": [
    "# function to deal with parsing one entry in our log data\n",
    "def parse_log_entry(entry):\n",
    "    parts = entry.split()\n",
    "    output = {}\n",
    "    output['ip'] = parts[0]\n",
    "    output['timestamp'] = parts[3][1:].replace(':', ' ', 1)\n",
    "    output['request_method'] = parts[5][1:]\n",
    "    output['request_path'] = parts[6]\n",
    "    output['http_version'] = parts[7][:-1]\n",
    "    output['status_code'] = parts[8]\n",
    "    output['size'] = int(parts[9])\n",
    "    output['user_agent'] = ' '.join(parts[11:]).replace('\"', '')\n",
    "    return pd.Series(output)\n",
    "\n",
    "url = f'mysql+pymysql://{env.username}:{env.password}@{env.host}/logs'\n",
    "df = pd.read_sql('SELECT * FROM api_access', url)\n",
    "# df = pd.concat([df.entry, df.entry.apply(parse_log_entry)], axis=1)\n",
    "df = df.entry.apply(parse_log_entry)\n",
    "df.head()"
   ]
  },
  {
   "cell_type": "code",
   "execution_count": 7,
   "id": "3b4424fe",
   "metadata": {},
   "outputs": [
    {
     "data": {
      "text/plain": [
       "(13974, 8)"
      ]
     },
     "execution_count": 7,
     "metadata": {},
     "output_type": "execute_result"
    }
   ],
   "source": [
    "df.shape"
   ]
  },
  {
   "cell_type": "code",
   "execution_count": 4,
   "id": "d6552176",
   "metadata": {},
   "outputs": [
    {
     "data": {
      "text/plain": [
       "97.105.19.58      11998\n",
       "173.173.113.51     1059\n",
       "72.181.113.170      613\n",
       "72.181.105.81       246\n",
       "24.26.242.9          21\n",
       "Name: ip, dtype: int64"
      ]
     },
     "execution_count": 4,
     "metadata": {},
     "output_type": "execute_result"
    }
   ],
   "source": [
    "df.ip.value_counts().head()\n"
   ]
  },
  {
   "cell_type": "code",
   "execution_count": 5,
   "id": "b838f0ef",
   "metadata": {},
   "outputs": [
    {
     "data": {
      "text/plain": [
       "200    13958\n",
       "499       16\n",
       "Name: status_code, dtype: int64"
      ]
     },
     "execution_count": 5,
     "metadata": {},
     "output_type": "execute_result"
    }
   ],
   "source": [
    "df.status_code.value_counts().head()"
   ]
  },
  {
   "cell_type": "code",
   "execution_count": 19,
   "id": "d63c53a9",
   "metadata": {},
   "outputs": [
    {
     "data": {
      "text/plain": [
       "97.105.19.58      0.858595\n",
       "173.173.113.51    0.075784\n",
       "72.181.113.170    0.043867\n",
       "72.181.105.81     0.017604\n",
       "24.26.242.9       0.001503\n",
       "Name: ip, dtype: float64"
      ]
     },
     "execution_count": 19,
     "metadata": {},
     "output_type": "execute_result"
    }
   ],
   "source": [
    "df.ip.value_counts(normalize=True).head()\n"
   ]
  },
  {
   "cell_type": "code",
   "execution_count": 15,
   "id": "38ccd683",
   "metadata": {},
   "outputs": [
    {
     "data": {
      "text/html": [
       "<div>\n",
       "<style scoped>\n",
       "    .dataframe tbody tr th:only-of-type {\n",
       "        vertical-align: middle;\n",
       "    }\n",
       "\n",
       "    .dataframe tbody tr th {\n",
       "        vertical-align: top;\n",
       "    }\n",
       "\n",
       "    .dataframe thead th {\n",
       "        text-align: right;\n",
       "    }\n",
       "</style>\n",
       "<table border=\"1\" class=\"dataframe\">\n",
       "  <thead>\n",
       "    <tr style=\"text-align: right;\">\n",
       "      <th></th>\n",
       "      <th>ip</th>\n",
       "      <th>timestamp</th>\n",
       "      <th>request_method</th>\n",
       "      <th>request_path</th>\n",
       "      <th>http_version</th>\n",
       "      <th>status_code</th>\n",
       "      <th>size</th>\n",
       "      <th>user_agent</th>\n",
       "    </tr>\n",
       "  </thead>\n",
       "  <tbody>\n",
       "    <tr>\n",
       "      <th>1745</th>\n",
       "      <td>97.105.19.58</td>\n",
       "      <td>16/Apr/2019 19:55:15</td>\n",
       "      <td>GET</td>\n",
       "      <td>/api/v1/sales?page=2</td>\n",
       "      <td>HTTP/1.1</td>\n",
       "      <td>499</td>\n",
       "      <td>0</td>\n",
       "      <td>python-requests/2.20.1</td>\n",
       "    </tr>\n",
       "    <tr>\n",
       "      <th>1819</th>\n",
       "      <td>97.105.19.58</td>\n",
       "      <td>16/Apr/2019 19:56:02</td>\n",
       "      <td>GET</td>\n",
       "      <td>/api/v1/sales?page=21</td>\n",
       "      <td>HTTP/1.1</td>\n",
       "      <td>499</td>\n",
       "      <td>0</td>\n",
       "      <td>python-requests/2.20.1</td>\n",
       "    </tr>\n",
       "    <tr>\n",
       "      <th>4242</th>\n",
       "      <td>97.105.19.58</td>\n",
       "      <td>16/Apr/2019 20:28:46</td>\n",
       "      <td>GET</td>\n",
       "      <td>/api/v1/sales?page=2</td>\n",
       "      <td>HTTP/1.1</td>\n",
       "      <td>499</td>\n",
       "      <td>0</td>\n",
       "      <td>python-requests/2.21.0</td>\n",
       "    </tr>\n",
       "    <tr>\n",
       "      <th>4405</th>\n",
       "      <td>97.105.19.58</td>\n",
       "      <td>16/Apr/2019 20:33:24</td>\n",
       "      <td>GET</td>\n",
       "      <td>/api/v1/sales?page=29</td>\n",
       "      <td>HTTP/1.1</td>\n",
       "      <td>499</td>\n",
       "      <td>0</td>\n",
       "      <td>python-requests/2.21.0</td>\n",
       "    </tr>\n",
       "    <tr>\n",
       "      <th>4790</th>\n",
       "      <td>97.105.19.58</td>\n",
       "      <td>16/Apr/2019 20:38:13</td>\n",
       "      <td>GET</td>\n",
       "      <td>/api/v1/items</td>\n",
       "      <td>HTTP/1.1</td>\n",
       "      <td>499</td>\n",
       "      <td>0</td>\n",
       "      <td>python-requests/2.21.0</td>\n",
       "    </tr>\n",
       "    <tr>\n",
       "      <th>4862</th>\n",
       "      <td>97.105.19.58</td>\n",
       "      <td>16/Apr/2019 20:38:55</td>\n",
       "      <td>GET</td>\n",
       "      <td>/api/v1/items</td>\n",
       "      <td>HTTP/1.1</td>\n",
       "      <td>499</td>\n",
       "      <td>0</td>\n",
       "      <td>python-requests/2.21.0</td>\n",
       "    </tr>\n",
       "    <tr>\n",
       "      <th>4871</th>\n",
       "      <td>97.105.19.58</td>\n",
       "      <td>16/Apr/2019 20:39:00</td>\n",
       "      <td>GET</td>\n",
       "      <td>/api/v1/items</td>\n",
       "      <td>HTTP/1.1</td>\n",
       "      <td>499</td>\n",
       "      <td>0</td>\n",
       "      <td>python-requests/2.21.0</td>\n",
       "    </tr>\n",
       "    <tr>\n",
       "      <th>5520</th>\n",
       "      <td>97.105.19.58</td>\n",
       "      <td>16/Apr/2019 20:45:17</td>\n",
       "      <td>GET</td>\n",
       "      <td>/api/v1/items</td>\n",
       "      <td>HTTP/1.1</td>\n",
       "      <td>499</td>\n",
       "      <td>0</td>\n",
       "      <td>python-requests/2.21.0</td>\n",
       "    </tr>\n",
       "    <tr>\n",
       "      <th>5539</th>\n",
       "      <td>97.105.19.58</td>\n",
       "      <td>16/Apr/2019 20:45:28</td>\n",
       "      <td>GET</td>\n",
       "      <td>/api/v1/sales?page=2</td>\n",
       "      <td>HTTP/1.1</td>\n",
       "      <td>499</td>\n",
       "      <td>0</td>\n",
       "      <td>python-requests/2.21.0</td>\n",
       "    </tr>\n",
       "    <tr>\n",
       "      <th>6860</th>\n",
       "      <td>97.105.19.58</td>\n",
       "      <td>16/Apr/2019 21:00:35</td>\n",
       "      <td>GET</td>\n",
       "      <td>/api/v1/sales?page=115</td>\n",
       "      <td>HTTP/1.1</td>\n",
       "      <td>499</td>\n",
       "      <td>0</td>\n",
       "      <td>python-requests/2.20.1</td>\n",
       "    </tr>\n",
       "    <tr>\n",
       "      <th>6934</th>\n",
       "      <td>97.105.19.58</td>\n",
       "      <td>16/Apr/2019 21:02:07</td>\n",
       "      <td>GET</td>\n",
       "      <td>/api/v1/sales?page=47</td>\n",
       "      <td>HTTP/1.1</td>\n",
       "      <td>499</td>\n",
       "      <td>0</td>\n",
       "      <td>python-requests/2.20.1</td>\n",
       "    </tr>\n",
       "    <tr>\n",
       "      <th>8267</th>\n",
       "      <td>97.105.19.58</td>\n",
       "      <td>16/Apr/2019 21:30:46</td>\n",
       "      <td>GET</td>\n",
       "      <td>/api/v1/sales?page=25</td>\n",
       "      <td>HTTP/1.1</td>\n",
       "      <td>499</td>\n",
       "      <td>0</td>\n",
       "      <td>python-requests/2.21.0</td>\n",
       "    </tr>\n",
       "    <tr>\n",
       "      <th>8866</th>\n",
       "      <td>97.105.19.58</td>\n",
       "      <td>16/Apr/2019 21:39:21</td>\n",
       "      <td>GET</td>\n",
       "      <td>/api/v1/sales?page=80</td>\n",
       "      <td>HTTP/1.1</td>\n",
       "      <td>499</td>\n",
       "      <td>0</td>\n",
       "      <td>python-requests/2.21.0</td>\n",
       "    </tr>\n",
       "    <tr>\n",
       "      <th>10838</th>\n",
       "      <td>97.105.19.58</td>\n",
       "      <td>16/Apr/2019 22:21:38</td>\n",
       "      <td>GET</td>\n",
       "      <td>/api/v1/sales?page=69</td>\n",
       "      <td>HTTP/1.1</td>\n",
       "      <td>499</td>\n",
       "      <td>0</td>\n",
       "      <td>python-requests/2.21.0</td>\n",
       "    </tr>\n",
       "    <tr>\n",
       "      <th>12598</th>\n",
       "      <td>72.181.113.170</td>\n",
       "      <td>17/Apr/2019 02:48:36</td>\n",
       "      <td>GET</td>\n",
       "      <td>/api/v1/sales?page=8</td>\n",
       "      <td>HTTP/1.1</td>\n",
       "      <td>499</td>\n",
       "      <td>0</td>\n",
       "      <td>python-requests/2.21.0</td>\n",
       "    </tr>\n",
       "    <tr>\n",
       "      <th>13106</th>\n",
       "      <td>72.181.113.170</td>\n",
       "      <td>17/Apr/2019 03:42:44</td>\n",
       "      <td>GET</td>\n",
       "      <td>/api/v1/sales?page=133</td>\n",
       "      <td>HTTP/1.1</td>\n",
       "      <td>499</td>\n",
       "      <td>0</td>\n",
       "      <td>python-requests/2.21.0</td>\n",
       "    </tr>\n",
       "  </tbody>\n",
       "</table>\n",
       "</div>"
      ],
      "text/plain": [
       "                   ip             timestamp request_method  \\\n",
       "1745     97.105.19.58  16/Apr/2019 19:55:15            GET   \n",
       "1819     97.105.19.58  16/Apr/2019 19:56:02            GET   \n",
       "4242     97.105.19.58  16/Apr/2019 20:28:46            GET   \n",
       "4405     97.105.19.58  16/Apr/2019 20:33:24            GET   \n",
       "4790     97.105.19.58  16/Apr/2019 20:38:13            GET   \n",
       "4862     97.105.19.58  16/Apr/2019 20:38:55            GET   \n",
       "4871     97.105.19.58  16/Apr/2019 20:39:00            GET   \n",
       "5520     97.105.19.58  16/Apr/2019 20:45:17            GET   \n",
       "5539     97.105.19.58  16/Apr/2019 20:45:28            GET   \n",
       "6860     97.105.19.58  16/Apr/2019 21:00:35            GET   \n",
       "6934     97.105.19.58  16/Apr/2019 21:02:07            GET   \n",
       "8267     97.105.19.58  16/Apr/2019 21:30:46            GET   \n",
       "8866     97.105.19.58  16/Apr/2019 21:39:21            GET   \n",
       "10838    97.105.19.58  16/Apr/2019 22:21:38            GET   \n",
       "12598  72.181.113.170  17/Apr/2019 02:48:36            GET   \n",
       "13106  72.181.113.170  17/Apr/2019 03:42:44            GET   \n",
       "\n",
       "                 request_path http_version status_code  size  \\\n",
       "1745     /api/v1/sales?page=2     HTTP/1.1         499     0   \n",
       "1819    /api/v1/sales?page=21     HTTP/1.1         499     0   \n",
       "4242     /api/v1/sales?page=2     HTTP/1.1         499     0   \n",
       "4405    /api/v1/sales?page=29     HTTP/1.1         499     0   \n",
       "4790            /api/v1/items     HTTP/1.1         499     0   \n",
       "4862            /api/v1/items     HTTP/1.1         499     0   \n",
       "4871            /api/v1/items     HTTP/1.1         499     0   \n",
       "5520            /api/v1/items     HTTP/1.1         499     0   \n",
       "5539     /api/v1/sales?page=2     HTTP/1.1         499     0   \n",
       "6860   /api/v1/sales?page=115     HTTP/1.1         499     0   \n",
       "6934    /api/v1/sales?page=47     HTTP/1.1         499     0   \n",
       "8267    /api/v1/sales?page=25     HTTP/1.1         499     0   \n",
       "8866    /api/v1/sales?page=80     HTTP/1.1         499     0   \n",
       "10838   /api/v1/sales?page=69     HTTP/1.1         499     0   \n",
       "12598    /api/v1/sales?page=8     HTTP/1.1         499     0   \n",
       "13106  /api/v1/sales?page=133     HTTP/1.1         499     0   \n",
       "\n",
       "                   user_agent  \n",
       "1745   python-requests/2.20.1  \n",
       "1819   python-requests/2.20.1  \n",
       "4242   python-requests/2.21.0  \n",
       "4405   python-requests/2.21.0  \n",
       "4790   python-requests/2.21.0  \n",
       "4862   python-requests/2.21.0  \n",
       "4871   python-requests/2.21.0  \n",
       "5520   python-requests/2.21.0  \n",
       "5539   python-requests/2.21.0  \n",
       "6860   python-requests/2.20.1  \n",
       "6934   python-requests/2.20.1  \n",
       "8267   python-requests/2.21.0  \n",
       "8866   python-requests/2.21.0  \n",
       "10838  python-requests/2.21.0  \n",
       "12598  python-requests/2.21.0  \n",
       "13106  python-requests/2.21.0  "
      ]
     },
     "execution_count": 15,
     "metadata": {},
     "output_type": "execute_result"
    }
   ],
   "source": [
    "df[df['status_code'] != '200']"
   ]
  },
  {
   "cell_type": "code",
   "execution_count": 18,
   "id": "c761b98d",
   "metadata": {},
   "outputs": [
    {
     "data": {
      "text/plain": [
       "ip                object\n",
       "timestamp         object\n",
       "request_method    object\n",
       "request_path      object\n",
       "http_version      object\n",
       "status_code       object\n",
       "size               int64\n",
       "user_agent        object\n",
       "dtype: object"
      ]
     },
     "execution_count": 18,
     "metadata": {},
     "output_type": "execute_result"
    }
   ],
   "source": [
    "df.dtypes"
   ]
  },
  {
   "cell_type": "code",
   "execution_count": 20,
   "id": "e7ee82b1",
   "metadata": {},
   "outputs": [],
   "source": [
    "def value_counts_and_frequencies(s: pd.Series, dropna=True) -> pd.DataFrame:\n",
    "    return pd.merge(\n",
    "        s.value_counts(dropna=False).rename('count'),\n",
    "        s.value_counts(dropna=False, normalize=True).rename('proba'),\n",
    "        left_index=True,\n",
    "        right_index=True,\n",
    "    )\n"
   ]
  },
  {
   "cell_type": "code",
   "execution_count": 22,
   "id": "da07cbc5",
   "metadata": {},
   "outputs": [
    {
     "data": {
      "text/html": [
       "<div>\n",
       "<style scoped>\n",
       "    .dataframe tbody tr th:only-of-type {\n",
       "        vertical-align: middle;\n",
       "    }\n",
       "\n",
       "    .dataframe tbody tr th {\n",
       "        vertical-align: top;\n",
       "    }\n",
       "\n",
       "    .dataframe thead th {\n",
       "        text-align: right;\n",
       "    }\n",
       "</style>\n",
       "<table border=\"1\" class=\"dataframe\">\n",
       "  <thead>\n",
       "    <tr style=\"text-align: right;\">\n",
       "      <th></th>\n",
       "      <th>count</th>\n",
       "      <th>proba</th>\n",
       "    </tr>\n",
       "  </thead>\n",
       "  <tbody>\n",
       "    <tr>\n",
       "      <th>16/Apr/2019 19:56:10</th>\n",
       "      <td>9</td>\n",
       "      <td>0.000644</td>\n",
       "    </tr>\n",
       "    <tr>\n",
       "      <th>16/Apr/2019 19:49:58</th>\n",
       "      <td>8</td>\n",
       "      <td>0.000572</td>\n",
       "    </tr>\n",
       "    <tr>\n",
       "      <th>16/Apr/2019 20:01:30</th>\n",
       "      <td>7</td>\n",
       "      <td>0.000501</td>\n",
       "    </tr>\n",
       "    <tr>\n",
       "      <th>16/Apr/2019 20:12:23</th>\n",
       "      <td>6</td>\n",
       "      <td>0.000429</td>\n",
       "    </tr>\n",
       "    <tr>\n",
       "      <th>16/Apr/2019 20:02:59</th>\n",
       "      <td>6</td>\n",
       "      <td>0.000429</td>\n",
       "    </tr>\n",
       "  </tbody>\n",
       "</table>\n",
       "</div>"
      ],
      "text/plain": [
       "                      count     proba\n",
       "16/Apr/2019 19:56:10      9  0.000644\n",
       "16/Apr/2019 19:49:58      8  0.000572\n",
       "16/Apr/2019 20:01:30      7  0.000501\n",
       "16/Apr/2019 20:12:23      6  0.000429\n",
       "16/Apr/2019 20:02:59      6  0.000429"
      ]
     },
     "execution_count": 22,
     "metadata": {},
     "output_type": "execute_result"
    }
   ],
   "source": [
    "time_df = value_counts_and_frequencies(df.timestamp)\n",
    "time_df.head()"
   ]
  },
  {
   "cell_type": "code",
   "execution_count": 25,
   "id": "74199a73",
   "metadata": {},
   "outputs": [
    {
     "data": {
      "text/plain": [
       "<AxesSubplot:>"
      ]
     },
     "execution_count": 25,
     "metadata": {},
     "output_type": "execute_result"
    },
    {
     "data": {
      "image/png": "[encoded data removed]",
      "text/plain": [
       "<Figure size 500x900 with 1 Axes>"
      ]
     },
     "metadata": {},
     "output_type": "display_data"
    }
   ],
   "source": [
    "time_df['count'].sort_values().tail(5).plot.barh(figsize=(5, 9))\n"
   ]
  },
  {
   "cell_type": "code",
   "execution_count": 36,
   "id": "7a5793ca",
   "metadata": {},
   "outputs": [
    {
     "data": {
      "text/plain": [
       "dtype('O')"
      ]
     },
     "execution_count": 36,
     "metadata": {},
     "output_type": "execute_result"
    }
   ],
   "source": [
    "time_df.index.dtype"
   ]
  },
  {
   "cell_type": "code",
   "execution_count": null,
   "id": "48433249",
   "metadata": {},
   "outputs": [],
   "source": []
  }
 ],
 "metadata": {
  "kernelspec": {
   "display_name": "Python 3 (ipykernel)",
   "language": "python",
   "name": "python3"
  },
  "language_info": {
   "codemirror_mode": {
    "name": "ipython",
    "version": 3
   },
   "file_extension": ".py",
   "mimetype": "text/x-python",
   "name": "python",
   "nbconvert_exporter": "python",
   "pygments_lexer": "ipython3",
   "version": "3.9.13"
  }
 },
 "nbformat": 4,
 "nbformat_minor": 5
}
