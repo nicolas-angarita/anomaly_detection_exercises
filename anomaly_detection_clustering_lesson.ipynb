{
 "cells": [
  {
   "cell_type": "markdown",
   "id": "f53bdf9f",
   "metadata": {},
   "source": [
    "# Detect Anomalies Using Density Based Clustering"
   ]
  },
  {
   "cell_type": "markdown",
   "id": "863afd3b",
   "metadata": {},
   "source": [
    "```sklearn.cluster.DBSCAN```"
   ]
  },
  {
   "cell_type": "markdown",
   "id": "e1eac39a",
   "metadata": {},
   "source": [
    "<b>Overview</b>: We will be using DBSCAN to determine if the datapoints fall into a cluster. If they do fall into a cluster, they are likely <u>not</u> anomalies. If they do <u>not</u> fall into a cluster, it is worth investigating further because those points <i>may</i> be anomalies."
   ]
  },
  {
   "cell_type": "code",
   "execution_count": 1,
   "id": "9eaf6a5b",
   "metadata": {},
   "outputs": [],
   "source": [
    "#standard DS imports\n",
    "import matplotlib.pyplot as plt\n",
    "import matplotlib.dates as mdates\n",
    "import seaborn as sns\n",
    "import numpy as np\n",
    "import pandas as pd\n",
    "import itertools\n",
    "import math\n",
    "from sklearn import metrics\n",
    "from random import randint\n",
    "\n",
    "#DBSCAN import\n",
    "from sklearn.cluster import DBSCAN\n",
    "\n",
    "#Scaler import\n",
    "from sklearn.preprocessing import MinMaxScaler, StandardScaler\n",
    "\n",
    "#ignore warnings import\n",
    "import warnings\n",
    "warnings.filterwarnings(\"ignore\")"
   ]
  },
  {
   "cell_type": "markdown",
   "id": "329837d2",
   "metadata": {},
   "source": [
    "<hr style=\"border:2px solid gray\">"
   ]
  },
  {
   "cell_type": "markdown",
   "id": "47b286f3",
   "metadata": {},
   "source": [
    "# Steps to Anomaly Detection using Clustering\n",
    "\n",
    "1. Select variables you want to cluster: ```df = df[[\"col1\", \"col2\"]]```\n",
    "2. Convert to array & dtype float: ```np_array = df.values.astype(\"float32\", copy = False)```\n",
    "3. Scale to standard normal:\n",
    "```scaler = StandardScaler().fit(np_array) np_array = scaler.transform(np_array)```\n",
    "\n",
    "4. Create DBSCAN object and fit: ```dbsc = DBSCAN(eps = .75, min_samples = 15).fit(np_array)```\n",
    "5. Extract labels: ```labels = dbsc.labels_```\n",
    "6. Add labels back to original dataframe:\n",
    "```df['labels'] = labels```\n",
    "\n",
    "7. Explore:\n",
    "```df.labels.value_counts() sns.scatterplot(df.col1, df.col2, hue=df.labels)```"
   ]
  },
  {
   "cell_type": "markdown",
   "id": "5fe06d62",
   "metadata": {},
   "source": [
    "<i> For this example, we will not be following Steps 2 & 6.\n",
    "<br>\n",
    "    \n",
    "Step 2:\n",
    "- by using fit_transform we already return an array\n",
    "- our datatypes are already correct\n",
    "\n",
    "Step 6:\n",
    "- Our dataframe already returns with the label on it"
   ]
  },
  {
   "cell_type": "markdown",
   "id": "9413e244",
   "metadata": {},
   "source": [
    "<hr style=\"border:2px solid gray\">"
   ]
  },
  {
   "cell_type": "markdown",
   "id": "a4c34cd5",
   "metadata": {},
   "source": [
    "# Acquire"
   ]
  },
  {
   "cell_type": "code",
   "execution_count": 2,
   "id": "acf80e2d",
   "metadata": {},
   "outputs": [],
   "source": [
    "from env import host, user, password\n",
    "\n",
    "def get_db_url(database, host=host, user=user, password=password):\n",
    "    return f'mysql+pymysql://{user}:{password}@{host}/{database}'"
   ]
  },
  {
   "cell_type": "code",
   "execution_count": 3,
   "id": "46c24bd2",
   "metadata": {},
   "outputs": [
    {
     "data": {
      "text/html": [
       "<div>\n",
       "<style scoped>\n",
       "    .dataframe tbody tr th:only-of-type {\n",
       "        vertical-align: middle;\n",
       "    }\n",
       "\n",
       "    .dataframe tbody tr th {\n",
       "        vertical-align: top;\n",
       "    }\n",
       "\n",
       "    .dataframe thead th {\n",
       "        text-align: right;\n",
       "    }\n",
       "</style>\n",
       "<table border=\"1\" class=\"dataframe\">\n",
       "  <thead>\n",
       "    <tr style=\"text-align: right;\">\n",
       "      <th></th>\n",
       "      <th>Channel</th>\n",
       "      <th>Region</th>\n",
       "      <th>Fresh</th>\n",
       "      <th>Milk</th>\n",
       "      <th>Grocery</th>\n",
       "      <th>Frozen</th>\n",
       "      <th>Detergents_Paper</th>\n",
       "      <th>Delicassen</th>\n",
       "    </tr>\n",
       "    <tr>\n",
       "      <th>customer_id</th>\n",
       "      <th></th>\n",
       "      <th></th>\n",
       "      <th></th>\n",
       "      <th></th>\n",
       "      <th></th>\n",
       "      <th></th>\n",
       "      <th></th>\n",
       "      <th></th>\n",
       "    </tr>\n",
       "  </thead>\n",
       "  <tbody>\n",
       "    <tr>\n",
       "      <th>0</th>\n",
       "      <td>2</td>\n",
       "      <td>3</td>\n",
       "      <td>12669</td>\n",
       "      <td>9656</td>\n",
       "      <td>7561</td>\n",
       "      <td>214</td>\n",
       "      <td>2674</td>\n",
       "      <td>1338</td>\n",
       "    </tr>\n",
       "    <tr>\n",
       "      <th>1</th>\n",
       "      <td>2</td>\n",
       "      <td>3</td>\n",
       "      <td>7057</td>\n",
       "      <td>9810</td>\n",
       "      <td>9568</td>\n",
       "      <td>1762</td>\n",
       "      <td>3293</td>\n",
       "      <td>1776</td>\n",
       "    </tr>\n",
       "    <tr>\n",
       "      <th>2</th>\n",
       "      <td>2</td>\n",
       "      <td>3</td>\n",
       "      <td>6353</td>\n",
       "      <td>8808</td>\n",
       "      <td>7684</td>\n",
       "      <td>2405</td>\n",
       "      <td>3516</td>\n",
       "      <td>7844</td>\n",
       "    </tr>\n",
       "    <tr>\n",
       "      <th>3</th>\n",
       "      <td>1</td>\n",
       "      <td>3</td>\n",
       "      <td>13265</td>\n",
       "      <td>1196</td>\n",
       "      <td>4221</td>\n",
       "      <td>6404</td>\n",
       "      <td>507</td>\n",
       "      <td>1788</td>\n",
       "    </tr>\n",
       "    <tr>\n",
       "      <th>4</th>\n",
       "      <td>2</td>\n",
       "      <td>3</td>\n",
       "      <td>22615</td>\n",
       "      <td>5410</td>\n",
       "      <td>7198</td>\n",
       "      <td>3915</td>\n",
       "      <td>1777</td>\n",
       "      <td>5185</td>\n",
       "    </tr>\n",
       "  </tbody>\n",
       "</table>\n",
       "</div>"
      ],
      "text/plain": [
       "             Channel  Region  Fresh  Milk  Grocery  Frozen  Detergents_Paper  \\\n",
       "customer_id                                                                    \n",
       "0                  2       3  12669  9656     7561     214              2674   \n",
       "1                  2       3   7057  9810     9568    1762              3293   \n",
       "2                  2       3   6353  8808     7684    2405              3516   \n",
       "3                  1       3  13265  1196     4221    6404               507   \n",
       "4                  2       3  22615  5410     7198    3915              1777   \n",
       "\n",
       "             Delicassen  \n",
       "customer_id              \n",
       "0                  1338  \n",
       "1                  1776  \n",
       "2                  7844  \n",
       "3                  1788  \n",
       "4                  5185  "
      ]
     },
     "execution_count": 3,
     "metadata": {},
     "output_type": "execute_result"
    }
   ],
   "source": [
    "url = get_db_url(\"grocery_db\")\n",
    "\n",
    "sql = \"\"\"\n",
    "select *\n",
    "from grocery_customers\n",
    "\"\"\"\n",
    "\n",
    "df = pd.read_sql(sql, url, index_col=\"customer_id\")\n",
    "df.head()"
   ]
  },
  {
   "cell_type": "code",
   "execution_count": 4,
   "id": "a51de3ee",
   "metadata": {},
   "outputs": [
    {
     "name": "stdout",
     "output_type": "stream",
     "text": [
      "<class 'pandas.core.frame.DataFrame'>\n",
      "Int64Index: 440 entries, 0 to 439\n",
      "Data columns (total 8 columns):\n",
      " #   Column            Non-Null Count  Dtype\n",
      "---  ------            --------------  -----\n",
      " 0   Channel           440 non-null    int64\n",
      " 1   Region            440 non-null    int64\n",
      " 2   Fresh             440 non-null    int64\n",
      " 3   Milk              440 non-null    int64\n",
      " 4   Grocery           440 non-null    int64\n",
      " 5   Frozen            440 non-null    int64\n",
      " 6   Detergents_Paper  440 non-null    int64\n",
      " 7   Delicassen        440 non-null    int64\n",
      "dtypes: int64(8)\n",
      "memory usage: 30.9 KB\n"
     ]
    }
   ],
   "source": [
    "df.info()"
   ]
  },
  {
   "cell_type": "markdown",
   "id": "8a2df46c",
   "metadata": {},
   "source": [
    "<hr style=\"border:1px solid black\">"
   ]
  },
  {
   "cell_type": "markdown",
   "id": "63f05329",
   "metadata": {},
   "source": [
    "# Follow the Steps"
   ]
  },
  {
   "cell_type": "markdown",
   "id": "7c730878",
   "metadata": {},
   "source": [
    "# Step 1:"
   ]
  },
  {
   "cell_type": "code",
   "execution_count": 5,
   "id": "aee005fd",
   "metadata": {},
   "outputs": [
    {
     "data": {
      "text/html": [
       "<div>\n",
       "<style scoped>\n",
       "    .dataframe tbody tr th:only-of-type {\n",
       "        vertical-align: middle;\n",
       "    }\n",
       "\n",
       "    .dataframe tbody tr th {\n",
       "        vertical-align: top;\n",
       "    }\n",
       "\n",
       "    .dataframe thead th {\n",
       "        text-align: right;\n",
       "    }\n",
       "</style>\n",
       "<table border=\"1\" class=\"dataframe\">\n",
       "  <thead>\n",
       "    <tr style=\"text-align: right;\">\n",
       "      <th></th>\n",
       "      <th>Grocery</th>\n",
       "      <th>Milk</th>\n",
       "      <th>Fresh</th>\n",
       "    </tr>\n",
       "    <tr>\n",
       "      <th>customer_id</th>\n",
       "      <th></th>\n",
       "      <th></th>\n",
       "      <th></th>\n",
       "    </tr>\n",
       "  </thead>\n",
       "  <tbody>\n",
       "    <tr>\n",
       "      <th>0</th>\n",
       "      <td>7561</td>\n",
       "      <td>9656</td>\n",
       "      <td>12669</td>\n",
       "    </tr>\n",
       "    <tr>\n",
       "      <th>1</th>\n",
       "      <td>9568</td>\n",
       "      <td>9810</td>\n",
       "      <td>7057</td>\n",
       "    </tr>\n",
       "  </tbody>\n",
       "</table>\n",
       "</div>"
      ],
      "text/plain": [
       "             Grocery  Milk  Fresh\n",
       "customer_id                      \n",
       "0               7561  9656  12669\n",
       "1               9568  9810   7057"
      ]
     },
     "execution_count": 5,
     "metadata": {},
     "output_type": "execute_result"
    }
   ],
   "source": [
    "# Cluster on all or a selected subset of features\n",
    "grocery_milk_fresh = df[[\"Grocery\", \"Milk\", \"Fresh\"]]\n",
    "grocery_milk_fresh.head(2)s"
   ]
  },
  {
   "cell_type": "markdown",
   "id": "4bf94961",
   "metadata": {},
   "source": [
    "# Step 2:"
   ]
  },
  {
   "cell_type": "code",
   "execution_count": 6,
   "id": "d03ee875",
   "metadata": {},
   "outputs": [],
   "source": [
    "#convert to an array and turn into float\n",
    "#np_array = df.values.astype(\"float32\", copy = False)"
   ]
  },
  {
   "cell_type": "markdown",
   "id": "a97ae6a2",
   "metadata": {},
   "source": [
    "# Step 3:"
   ]
  },
  {
   "cell_type": "code",
   "execution_count": 7,
   "id": "0e819533",
   "metadata": {},
   "outputs": [
    {
     "data": {
      "text/plain": [
       "array([[0.08146416, 0.13072723, 0.11294004],\n",
       "       [0.10309667, 0.13282409, 0.06289903],\n",
       "       [0.08278992, 0.11918086, 0.05662161],\n",
       "       ...,\n",
       "       [0.32594285, 0.21013575, 0.1295431 ],\n",
       "       [0.02402535, 0.02622442, 0.091727  ],\n",
       "       [0.02702178, 0.02237109, 0.02482434]])"
      ]
     },
     "execution_count": 7,
     "metadata": {},
     "output_type": "execute_result"
    }
   ],
   "source": [
    "# Make the scaler\n",
    "mms = MinMaxScaler()\n",
    "\n",
    "#Fit/transform the scaler\n",
    "grocery_milk_fresh = mms.fit_transform(grocery_milk_fresh)\n",
    "\n",
    "#\n",
    "grocery_milk_fresh"
   ]
  },
  {
   "cell_type": "markdown",
   "id": "6763ae31",
   "metadata": {},
   "source": [
    "<hr style=\"border:2px solid gray\">"
   ]
  },
  {
   "cell_type": "markdown",
   "id": "90d61858",
   "metadata": {},
   "source": [
    "### Side Step"
   ]
  },
  {
   "cell_type": "code",
   "execution_count": 8,
   "id": "82ddfdf6",
   "metadata": {},
   "outputs": [],
   "source": [
    "# Now, let's add the scaled value columns back onto the dataframe\n",
    "columns = [\"Grocery\", \"Milk\", \"Fresh\"]\n",
    "scaled_columns = [\"Scaled_\" + column for column in columns]\n",
    "\n",
    "# Save a copy of the original dataframe\n",
    "original_df = df.copy()\n",
    "\n",
    "# Create a dataframe containing the scaled values\n",
    "scaled_df = pd.DataFrame(grocery_milk_fresh, columns=scaled_columns)\n",
    "\n",
    "# Merge the scaled and non-scaled values into one dataframe\n",
    "df = df.merge(scaled_df, on=df.index)\n",
    "df = df.drop(columns=['key_0'])"
   ]
  },
  {
   "cell_type": "code",
   "execution_count": 9,
   "id": "17ce654f",
   "metadata": {},
   "outputs": [
    {
     "data": {
      "text/html": [
       "<div>\n",
       "<style scoped>\n",
       "    .dataframe tbody tr th:only-of-type {\n",
       "        vertical-align: middle;\n",
       "    }\n",
       "\n",
       "    .dataframe tbody tr th {\n",
       "        vertical-align: top;\n",
       "    }\n",
       "\n",
       "    .dataframe thead th {\n",
       "        text-align: right;\n",
       "    }\n",
       "</style>\n",
       "<table border=\"1\" class=\"dataframe\">\n",
       "  <thead>\n",
       "    <tr style=\"text-align: right;\">\n",
       "      <th></th>\n",
       "      <th>Channel</th>\n",
       "      <th>Region</th>\n",
       "      <th>Fresh</th>\n",
       "      <th>Milk</th>\n",
       "      <th>Grocery</th>\n",
       "      <th>Frozen</th>\n",
       "      <th>Detergents_Paper</th>\n",
       "      <th>Delicassen</th>\n",
       "      <th>Scaled_Grocery</th>\n",
       "      <th>Scaled_Milk</th>\n",
       "      <th>Scaled_Fresh</th>\n",
       "    </tr>\n",
       "  </thead>\n",
       "  <tbody>\n",
       "    <tr>\n",
       "      <th>0</th>\n",
       "      <td>2</td>\n",
       "      <td>3</td>\n",
       "      <td>12669</td>\n",
       "      <td>9656</td>\n",
       "      <td>7561</td>\n",
       "      <td>214</td>\n",
       "      <td>2674</td>\n",
       "      <td>1338</td>\n",
       "      <td>0.081464</td>\n",
       "      <td>0.130727</td>\n",
       "      <td>0.112940</td>\n",
       "    </tr>\n",
       "    <tr>\n",
       "      <th>1</th>\n",
       "      <td>2</td>\n",
       "      <td>3</td>\n",
       "      <td>7057</td>\n",
       "      <td>9810</td>\n",
       "      <td>9568</td>\n",
       "      <td>1762</td>\n",
       "      <td>3293</td>\n",
       "      <td>1776</td>\n",
       "      <td>0.103097</td>\n",
       "      <td>0.132824</td>\n",
       "      <td>0.062899</td>\n",
       "    </tr>\n",
       "    <tr>\n",
       "      <th>2</th>\n",
       "      <td>2</td>\n",
       "      <td>3</td>\n",
       "      <td>6353</td>\n",
       "      <td>8808</td>\n",
       "      <td>7684</td>\n",
       "      <td>2405</td>\n",
       "      <td>3516</td>\n",
       "      <td>7844</td>\n",
       "      <td>0.082790</td>\n",
       "      <td>0.119181</td>\n",
       "      <td>0.056622</td>\n",
       "    </tr>\n",
       "    <tr>\n",
       "      <th>3</th>\n",
       "      <td>1</td>\n",
       "      <td>3</td>\n",
       "      <td>13265</td>\n",
       "      <td>1196</td>\n",
       "      <td>4221</td>\n",
       "      <td>6404</td>\n",
       "      <td>507</td>\n",
       "      <td>1788</td>\n",
       "      <td>0.045464</td>\n",
       "      <td>0.015536</td>\n",
       "      <td>0.118254</td>\n",
       "    </tr>\n",
       "    <tr>\n",
       "      <th>4</th>\n",
       "      <td>2</td>\n",
       "      <td>3</td>\n",
       "      <td>22615</td>\n",
       "      <td>5410</td>\n",
       "      <td>7198</td>\n",
       "      <td>3915</td>\n",
       "      <td>1777</td>\n",
       "      <td>5185</td>\n",
       "      <td>0.077552</td>\n",
       "      <td>0.072914</td>\n",
       "      <td>0.201626</td>\n",
       "    </tr>\n",
       "  </tbody>\n",
       "</table>\n",
       "</div>"
      ],
      "text/plain": [
       "   Channel  Region  Fresh  Milk  Grocery  Frozen  Detergents_Paper  \\\n",
       "0        2       3  12669  9656     7561     214              2674   \n",
       "1        2       3   7057  9810     9568    1762              3293   \n",
       "2        2       3   6353  8808     7684    2405              3516   \n",
       "3        1       3  13265  1196     4221    6404               507   \n",
       "4        2       3  22615  5410     7198    3915              1777   \n",
       "\n",
       "   Delicassen  Scaled_Grocery  Scaled_Milk  Scaled_Fresh  \n",
       "0        1338        0.081464     0.130727      0.112940  \n",
       "1        1776        0.103097     0.132824      0.062899  \n",
       "2        7844        0.082790     0.119181      0.056622  \n",
       "3        1788        0.045464     0.015536      0.118254  \n",
       "4        5185        0.077552     0.072914      0.201626  "
      ]
     },
     "execution_count": 9,
     "metadata": {},
     "output_type": "execute_result"
    }
   ],
   "source": [
    "df.head()"
   ]
  },
  {
   "cell_type": "markdown",
   "id": "4b574700",
   "metadata": {},
   "source": [
    "<hr style=\"border:2px solid gray\">"
   ]
  },
  {
   "cell_type": "markdown",
   "id": "c70de2cb",
   "metadata": {},
   "source": [
    "# Step 4:"
   ]
  },
  {
   "cell_type": "markdown",
   "id": "f77ce035",
   "metadata": {},
   "source": [
    "<b>DBSCAN</b>: Density-Based Spatial Clustering of Applications with Noise\n",
    "\n",
    "- Clusters together objects based on the density of the space around them.\n",
    "\n",
    "- Those with many neighbors will be clustered together, while objects sitting in a low density space will not be placed in a cluster.\n",
    "\n",
    "```sklearn.cluster.DBSCAN```"
   ]
  },
  {
   "cell_type": "markdown",
   "id": "9eb48f97",
   "metadata": {},
   "source": [
    "<b>Pros</b>:\n",
    "- Doesn't require pre-set number of clusters.\n",
    "\n",
    "- Identifies outliers as noise.\n",
    "\n",
    "- Able to find arbitrarily sized and arbitrarily shaped clusters\n",
    "\n",
    "- Requires only 2 parameters (distance and samples)\n",
    "\n",
    "- Is not largely affected by the order of the data\n"
   ]
  },
  {
   "cell_type": "markdown",
   "id": "3dc9a4dd",
   "metadata": {},
   "source": [
    "<b>Construct a DBSCAN object that requires a minimum of 20 data points in a neighborhood of radius 0.1 to be considered a core point.</b>"
   ]
  },
  {
   "cell_type": "code",
   "execution_count": 10,
   "id": "474fd85e",
   "metadata": {},
   "outputs": [
    {
     "data": {
      "text/html": [
       "<style>#sk-container-id-1 {color: black;background-color: white;}#sk-container-id-1 pre{padding: 0;}#sk-container-id-1 div.sk-toggleable {background-color: white;}#sk-container-id-1 label.sk-toggleable__label {cursor: pointer;display: block;width: 100%;margin-bottom: 0;padding: 0.3em;box-sizing: border-box;text-align: center;}#sk-container-id-1 label.sk-toggleable__label-arrow:before {content: \"▸\";float: left;margin-right: 0.25em;color: #696969;}#sk-container-id-1 label.sk-toggleable__label-arrow:hover:before {color: black;}#sk-container-id-1 div.sk-estimator:hover label.sk-toggleable__label-arrow:before {color: black;}#sk-container-id-1 div.sk-toggleable__content {max-height: 0;max-width: 0;overflow: hidden;text-align: left;background-color: #f0f8ff;}#sk-container-id-1 div.sk-toggleable__content pre {margin: 0.2em;color: black;border-radius: 0.25em;background-color: #f0f8ff;}#sk-container-id-1 input.sk-toggleable__control:checked~div.sk-toggleable__content {max-height: 200px;max-width: 100%;overflow: auto;}#sk-container-id-1 input.sk-toggleable__control:checked~label.sk-toggleable__label-arrow:before {content: \"▾\";}#sk-container-id-1 div.sk-estimator input.sk-toggleable__control:checked~label.sk-toggleable__label {background-color: #d4ebff;}#sk-container-id-1 div.sk-label input.sk-toggleable__control:checked~label.sk-toggleable__label {background-color: #d4ebff;}#sk-container-id-1 input.sk-hidden--visually {border: 0;clip: rect(1px 1px 1px 1px);clip: rect(1px, 1px, 1px, 1px);height: 1px;margin: -1px;overflow: hidden;padding: 0;position: absolute;width: 1px;}#sk-container-id-1 div.sk-estimator {font-family: monospace;background-color: #f0f8ff;border: 1px dotted black;border-radius: 0.25em;box-sizing: border-box;margin-bottom: 0.5em;}#sk-container-id-1 div.sk-estimator:hover {background-color: #d4ebff;}#sk-container-id-1 div.sk-parallel-item::after {content: \"\";width: 100%;border-bottom: 1px solid gray;flex-grow: 1;}#sk-container-id-1 div.sk-label:hover label.sk-toggleable__label {background-color: #d4ebff;}#sk-container-id-1 div.sk-serial::before {content: \"\";position: absolute;border-left: 1px solid gray;box-sizing: border-box;top: 0;bottom: 0;left: 50%;z-index: 0;}#sk-container-id-1 div.sk-serial {display: flex;flex-direction: column;align-items: center;background-color: white;padding-right: 0.2em;padding-left: 0.2em;position: relative;}#sk-container-id-1 div.sk-item {position: relative;z-index: 1;}#sk-container-id-1 div.sk-parallel {display: flex;align-items: stretch;justify-content: center;background-color: white;position: relative;}#sk-container-id-1 div.sk-item::before, #sk-container-id-1 div.sk-parallel-item::before {content: \"\";position: absolute;border-left: 1px solid gray;box-sizing: border-box;top: 0;bottom: 0;left: 50%;z-index: -1;}#sk-container-id-1 div.sk-parallel-item {display: flex;flex-direction: column;z-index: 1;position: relative;background-color: white;}#sk-container-id-1 div.sk-parallel-item:first-child::after {align-self: flex-end;width: 50%;}#sk-container-id-1 div.sk-parallel-item:last-child::after {align-self: flex-start;width: 50%;}#sk-container-id-1 div.sk-parallel-item:only-child::after {width: 0;}#sk-container-id-1 div.sk-dashed-wrapped {border: 1px dashed gray;margin: 0 0.4em 0.5em 0.4em;box-sizing: border-box;padding-bottom: 0.4em;background-color: white;}#sk-container-id-1 div.sk-label label {font-family: monospace;font-weight: bold;display: inline-block;line-height: 1.2em;}#sk-container-id-1 div.sk-label-container {text-align: center;}#sk-container-id-1 div.sk-container {/* jupyter's `normalize.less` sets `[hidden] { display: none; }` but bootstrap.min.css set `[hidden] { display: none !important; }` so we also need the `!important` here to be able to override the default hidden behavior on the sphinx rendered scikit-learn.org. See: https://github.com/scikit-learn/scikit-learn/issues/21755 */display: inline-block !important;position: relative;}#sk-container-id-1 div.sk-text-repr-fallback {display: none;}</style><div id=\"sk-container-id-1\" class=\"sk-top-container\"><div class=\"sk-text-repr-fallback\"><pre>DBSCAN(eps=0.1, min_samples=20)</pre><b>In a Jupyter environment, please rerun this cell to show the HTML representation or trust the notebook. <br />On GitHub, the HTML representation is unable to render, please try loading this page with nbviewer.org.</b></div><div class=\"sk-container\" hidden><div class=\"sk-item\"><div class=\"sk-estimator sk-toggleable\"><input class=\"sk-toggleable__control sk-hidden--visually\" id=\"sk-estimator-id-1\" type=\"checkbox\" checked><label for=\"sk-estimator-id-1\" class=\"sk-toggleable__label sk-toggleable__label-arrow\">DBSCAN</label><div class=\"sk-toggleable__content\"><pre>DBSCAN(eps=0.1, min_samples=20)</pre></div></div></div></div></div>"
      ],
      "text/plain": [
       "DBSCAN(eps=0.1, min_samples=20)"
      ]
     },
     "execution_count": 10,
     "metadata": {},
     "output_type": "execute_result"
    }
   ],
   "source": [
    "# Make the object\n",
    "dbsc = DBSCAN(eps = .10, min_samples = 20)\n",
    "\n",
    "# Fit the object\n",
    "dbsc.fit(grocery_milk_fresh)"
   ]
  },
  {
   "cell_type": "markdown",
   "id": "18f74d30",
   "metadata": {},
   "source": [
    "# Step 5: Create label/cluster"
   ]
  },
  {
   "cell_type": "markdown",
   "id": "5635098c",
   "metadata": {},
   "source": [
    "<div class=\"alert alert-block alert-info\">\n",
    "<b>Note:</b> DBSCAN makes a cluster called \"-1\" that contains the noise/outliers\n",
    "</div>"
   ]
  },
  {
   "cell_type": "code",
   "execution_count": 11,
   "id": "69ca1093",
   "metadata": {},
   "outputs": [],
   "source": [
    "# Assign the cluster labels\n",
    "df['gmf_labels'] = dbsc.labels_"
   ]
  },
  {
   "cell_type": "code",
   "execution_count": 12,
   "id": "cdfb8754",
   "metadata": {},
   "outputs": [
    {
     "data": {
      "text/html": [
       "<div>\n",
       "<style scoped>\n",
       "    .dataframe tbody tr th:only-of-type {\n",
       "        vertical-align: middle;\n",
       "    }\n",
       "\n",
       "    .dataframe tbody tr th {\n",
       "        vertical-align: top;\n",
       "    }\n",
       "\n",
       "    .dataframe thead th {\n",
       "        text-align: right;\n",
       "    }\n",
       "</style>\n",
       "<table border=\"1\" class=\"dataframe\">\n",
       "  <thead>\n",
       "    <tr style=\"text-align: right;\">\n",
       "      <th></th>\n",
       "      <th>Channel</th>\n",
       "      <th>Region</th>\n",
       "      <th>Fresh</th>\n",
       "      <th>Milk</th>\n",
       "      <th>Grocery</th>\n",
       "      <th>Frozen</th>\n",
       "      <th>Detergents_Paper</th>\n",
       "      <th>Delicassen</th>\n",
       "      <th>Scaled_Grocery</th>\n",
       "      <th>Scaled_Milk</th>\n",
       "      <th>Scaled_Fresh</th>\n",
       "      <th>gmf_labels</th>\n",
       "    </tr>\n",
       "  </thead>\n",
       "  <tbody>\n",
       "    <tr>\n",
       "      <th>386</th>\n",
       "      <td>1</td>\n",
       "      <td>3</td>\n",
       "      <td>1206</td>\n",
       "      <td>3620</td>\n",
       "      <td>2857</td>\n",
       "      <td>1945</td>\n",
       "      <td>353</td>\n",
       "      <td>967</td>\n",
       "      <td>0.030762</td>\n",
       "      <td>0.048541</td>\n",
       "      <td>0.010727</td>\n",
       "      <td>0</td>\n",
       "    </tr>\n",
       "    <tr>\n",
       "      <th>32</th>\n",
       "      <td>1</td>\n",
       "      <td>3</td>\n",
       "      <td>21632</td>\n",
       "      <td>1318</td>\n",
       "      <td>2886</td>\n",
       "      <td>266</td>\n",
       "      <td>918</td>\n",
       "      <td>405</td>\n",
       "      <td>0.031075</td>\n",
       "      <td>0.017197</td>\n",
       "      <td>0.192861</td>\n",
       "      <td>0</td>\n",
       "    </tr>\n",
       "    <tr>\n",
       "      <th>136</th>\n",
       "      <td>1</td>\n",
       "      <td>3</td>\n",
       "      <td>4625</td>\n",
       "      <td>8579</td>\n",
       "      <td>7030</td>\n",
       "      <td>4575</td>\n",
       "      <td>2447</td>\n",
       "      <td>1542</td>\n",
       "      <td>0.075741</td>\n",
       "      <td>0.116063</td>\n",
       "      <td>0.041213</td>\n",
       "      <td>0</td>\n",
       "    </tr>\n",
       "    <tr>\n",
       "      <th>360</th>\n",
       "      <td>1</td>\n",
       "      <td>3</td>\n",
       "      <td>19746</td>\n",
       "      <td>2872</td>\n",
       "      <td>2006</td>\n",
       "      <td>2601</td>\n",
       "      <td>468</td>\n",
       "      <td>503</td>\n",
       "      <td>0.021589</td>\n",
       "      <td>0.038356</td>\n",
       "      <td>0.176044</td>\n",
       "      <td>0</td>\n",
       "    </tr>\n",
       "    <tr>\n",
       "      <th>116</th>\n",
       "      <td>1</td>\n",
       "      <td>3</td>\n",
       "      <td>11173</td>\n",
       "      <td>2521</td>\n",
       "      <td>3355</td>\n",
       "      <td>1517</td>\n",
       "      <td>310</td>\n",
       "      <td>222</td>\n",
       "      <td>0.036130</td>\n",
       "      <td>0.033577</td>\n",
       "      <td>0.099601</td>\n",
       "      <td>0</td>\n",
       "    </tr>\n",
       "  </tbody>\n",
       "</table>\n",
       "</div>"
      ],
      "text/plain": [
       "     Channel  Region  Fresh  Milk  Grocery  Frozen  Detergents_Paper  \\\n",
       "386        1       3   1206  3620     2857    1945               353   \n",
       "32         1       3  21632  1318     2886     266               918   \n",
       "136        1       3   4625  8579     7030    4575              2447   \n",
       "360        1       3  19746  2872     2006    2601               468   \n",
       "116        1       3  11173  2521     3355    1517               310   \n",
       "\n",
       "     Delicassen  Scaled_Grocery  Scaled_Milk  Scaled_Fresh  gmf_labels  \n",
       "386         967        0.030762     0.048541      0.010727           0  \n",
       "32          405        0.031075     0.017197      0.192861           0  \n",
       "136        1542        0.075741     0.116063      0.041213           0  \n",
       "360         503        0.021589     0.038356      0.176044           0  \n",
       "116         222        0.036130     0.033577      0.099601           0  "
      ]
     },
     "execution_count": 12,
     "metadata": {},
     "output_type": "execute_result"
    }
   ],
   "source": [
    "#see what this dataframe looks like\n",
    "df.sample(5)"
   ]
  },
  {
   "cell_type": "markdown",
   "id": "819712b8",
   "metadata": {},
   "source": [
    "# Step 6: "
   ]
  },
  {
   "cell_type": "code",
   "execution_count": 13,
   "id": "c5a8659b",
   "metadata": {},
   "outputs": [],
   "source": [
    "#df['labels'] = labels"
   ]
  },
  {
   "cell_type": "markdown",
   "id": "872c3f60",
   "metadata": {},
   "source": [
    "# Step 7: Explore"
   ]
  },
  {
   "cell_type": "markdown",
   "id": "33ab1b32",
   "metadata": {},
   "source": [
    "<div class=\"alert alert-block alert-info\">\n",
    "<b>Remember:</b> \n",
    "<br>\n",
    "    \n",
    "- <b>-1</b>: refers to data that does <u>not</u> fall into a cluster\n",
    "- <b>0</b>: refers to data that does fall into a cluster\n",
    "</div>"
   ]
  },
  {
   "cell_type": "code",
   "execution_count": 14,
   "id": "c479c126",
   "metadata": {},
   "outputs": [
    {
     "data": {
      "text/plain": [
       " 0    409\n",
       "-1     31\n",
       "Name: gmf_labels, dtype: int64"
      ]
     },
     "execution_count": 14,
     "metadata": {},
     "output_type": "execute_result"
    }
   ],
   "source": [
    "#let's see what labels holds\n",
    "df.gmf_labels.value_counts()"
   ]
  },
  {
   "cell_type": "code",
   "execution_count": 15,
   "id": "88558d94",
   "metadata": {
    "scrolled": true
   },
   "outputs": [
    {
     "data": {
      "text/html": [
       "<div>\n",
       "<style scoped>\n",
       "    .dataframe tbody tr th:only-of-type {\n",
       "        vertical-align: middle;\n",
       "    }\n",
       "\n",
       "    .dataframe tbody tr th {\n",
       "        vertical-align: top;\n",
       "    }\n",
       "\n",
       "    .dataframe thead th {\n",
       "        text-align: right;\n",
       "    }\n",
       "</style>\n",
       "<table border=\"1\" class=\"dataframe\">\n",
       "  <thead>\n",
       "    <tr style=\"text-align: right;\">\n",
       "      <th></th>\n",
       "      <th>Channel</th>\n",
       "      <th>Region</th>\n",
       "      <th>Fresh</th>\n",
       "      <th>Milk</th>\n",
       "      <th>Grocery</th>\n",
       "      <th>Frozen</th>\n",
       "      <th>Detergents_Paper</th>\n",
       "      <th>Delicassen</th>\n",
       "      <th>Scaled_Grocery</th>\n",
       "      <th>Scaled_Milk</th>\n",
       "      <th>Scaled_Fresh</th>\n",
       "      <th>gmf_labels</th>\n",
       "    </tr>\n",
       "  </thead>\n",
       "  <tbody>\n",
       "    <tr>\n",
       "      <th>0</th>\n",
       "      <td>2</td>\n",
       "      <td>3</td>\n",
       "      <td>12669</td>\n",
       "      <td>9656</td>\n",
       "      <td>7561</td>\n",
       "      <td>214</td>\n",
       "      <td>2674</td>\n",
       "      <td>1338</td>\n",
       "      <td>0.081464</td>\n",
       "      <td>0.130727</td>\n",
       "      <td>0.112940</td>\n",
       "      <td>0</td>\n",
       "    </tr>\n",
       "    <tr>\n",
       "      <th>1</th>\n",
       "      <td>2</td>\n",
       "      <td>3</td>\n",
       "      <td>7057</td>\n",
       "      <td>9810</td>\n",
       "      <td>9568</td>\n",
       "      <td>1762</td>\n",
       "      <td>3293</td>\n",
       "      <td>1776</td>\n",
       "      <td>0.103097</td>\n",
       "      <td>0.132824</td>\n",
       "      <td>0.062899</td>\n",
       "      <td>0</td>\n",
       "    </tr>\n",
       "    <tr>\n",
       "      <th>2</th>\n",
       "      <td>2</td>\n",
       "      <td>3</td>\n",
       "      <td>6353</td>\n",
       "      <td>8808</td>\n",
       "      <td>7684</td>\n",
       "      <td>2405</td>\n",
       "      <td>3516</td>\n",
       "      <td>7844</td>\n",
       "      <td>0.082790</td>\n",
       "      <td>0.119181</td>\n",
       "      <td>0.056622</td>\n",
       "      <td>0</td>\n",
       "    </tr>\n",
       "    <tr>\n",
       "      <th>3</th>\n",
       "      <td>1</td>\n",
       "      <td>3</td>\n",
       "      <td>13265</td>\n",
       "      <td>1196</td>\n",
       "      <td>4221</td>\n",
       "      <td>6404</td>\n",
       "      <td>507</td>\n",
       "      <td>1788</td>\n",
       "      <td>0.045464</td>\n",
       "      <td>0.015536</td>\n",
       "      <td>0.118254</td>\n",
       "      <td>0</td>\n",
       "    </tr>\n",
       "    <tr>\n",
       "      <th>4</th>\n",
       "      <td>2</td>\n",
       "      <td>3</td>\n",
       "      <td>22615</td>\n",
       "      <td>5410</td>\n",
       "      <td>7198</td>\n",
       "      <td>3915</td>\n",
       "      <td>1777</td>\n",
       "      <td>5185</td>\n",
       "      <td>0.077552</td>\n",
       "      <td>0.072914</td>\n",
       "      <td>0.201626</td>\n",
       "      <td>0</td>\n",
       "    </tr>\n",
       "  </tbody>\n",
       "</table>\n",
       "</div>"
      ],
      "text/plain": [
       "   Channel  Region  Fresh  Milk  Grocery  Frozen  Detergents_Paper  \\\n",
       "0        2       3  12669  9656     7561     214              2674   \n",
       "1        2       3   7057  9810     9568    1762              3293   \n",
       "2        2       3   6353  8808     7684    2405              3516   \n",
       "3        1       3  13265  1196     4221    6404               507   \n",
       "4        2       3  22615  5410     7198    3915              1777   \n",
       "\n",
       "   Delicassen  Scaled_Grocery  Scaled_Milk  Scaled_Fresh  gmf_labels  \n",
       "0        1338        0.081464     0.130727      0.112940           0  \n",
       "1        1776        0.103097     0.132824      0.062899           0  \n",
       "2        7844        0.082790     0.119181      0.056622           0  \n",
       "3        1788        0.045464     0.015536      0.118254           0  \n",
       "4        5185        0.077552     0.072914      0.201626           0  "
      ]
     },
     "execution_count": 15,
     "metadata": {},
     "output_type": "execute_result"
    }
   ],
   "source": [
    "df.head()"
   ]
  },
  {
   "cell_type": "code",
   "execution_count": 16,
   "id": "fae346e4",
   "metadata": {},
   "outputs": [
    {
     "data": {
      "image/png": "[encoded data removed]",
      "text/plain": [
       "<Figure size 640x480 with 1 Axes>"
      ]
     },
     "metadata": {},
     "output_type": "display_data"
    },
    {
     "data": {
      "image/png": "[encoded data removed]",
      "text/plain": [
       "<Figure size 640x480 with 1 Axes>"
      ]
     },
     "metadata": {},
     "output_type": "display_data"
    },
    {
     "data": {
      "image/png": "[encoded data removed]",
      "text/plain": [
       "<Figure size 640x480 with 1 Axes>"
      ]
     },
     "metadata": {},
     "output_type": "display_data"
    }
   ],
   "source": [
    "sns.scatterplot(x=df.Grocery, y=df.Milk, hue=df.gmf_labels)\n",
    "plt.show()\n",
    "\n",
    "sns.scatterplot(x=df.Grocery, y=df.Fresh, hue=df.gmf_labels)\n",
    "plt.show()\n",
    "\n",
    "sns.scatterplot(x=df.Milk, y=df.Fresh, hue=df.gmf_labels)\n",
    "plt.show()"
   ]
  },
  {
   "cell_type": "markdown",
   "id": "8f348cc8",
   "metadata": {},
   "source": [
    "<div class=\"alert alert-block alert-info\">\n",
    "<b>Note:</b> If I were going to do a deep dive into this, I might want to use itertools to get all the combinations. Then I would create a DBSCAN for each combination and visualize them using the different features (hue = xx_labels).\n",
    "</div>"
   ]
  },
  {
   "cell_type": "code",
   "execution_count": 20,
   "id": "2096b598",
   "metadata": {},
   "outputs": [],
   "source": [
    "#create a df of ONLY anomalies\n",
    "anomalies = df.loc[df['gmf_labels'] == -1]"
   ]
  },
  {
   "cell_type": "code",
   "execution_count": 18,
   "id": "2bf8d3fd",
   "metadata": {},
   "outputs": [
    {
     "data": {
      "text/plain": [
       "(31, 12)"
      ]
     },
     "execution_count": 18,
     "metadata": {},
     "output_type": "execute_result"
    }
   ],
   "source": [
    "#let's see how many entries this actually has\n",
    "anomalies.shape"
   ]
  },
  {
   "cell_type": "code",
   "execution_count": 19,
   "id": "5ddb510a",
   "metadata": {},
   "outputs": [
    {
     "data": {
      "text/html": [
       "<div>\n",
       "<style scoped>\n",
       "    .dataframe tbody tr th:only-of-type {\n",
       "        vertical-align: middle;\n",
       "    }\n",
       "\n",
       "    .dataframe tbody tr th {\n",
       "        vertical-align: top;\n",
       "    }\n",
       "\n",
       "    .dataframe thead th {\n",
       "        text-align: right;\n",
       "    }\n",
       "</style>\n",
       "<table border=\"1\" class=\"dataframe\">\n",
       "  <thead>\n",
       "    <tr style=\"text-align: right;\">\n",
       "      <th></th>\n",
       "      <th>Channel</th>\n",
       "      <th>Region</th>\n",
       "      <th>Fresh</th>\n",
       "      <th>Milk</th>\n",
       "      <th>Grocery</th>\n",
       "      <th>Frozen</th>\n",
       "      <th>Detergents_Paper</th>\n",
       "      <th>Delicassen</th>\n",
       "      <th>Scaled_Grocery</th>\n",
       "      <th>Scaled_Milk</th>\n",
       "      <th>Scaled_Fresh</th>\n",
       "      <th>gmf_labels</th>\n",
       "    </tr>\n",
       "  </thead>\n",
       "  <tbody>\n",
       "    <tr>\n",
       "      <th>216</th>\n",
       "      <td>2</td>\n",
       "      <td>1</td>\n",
       "      <td>2532</td>\n",
       "      <td>16599</td>\n",
       "      <td>36486</td>\n",
       "      <td>179</td>\n",
       "      <td>13308</td>\n",
       "      <td>674</td>\n",
       "      <td>0.393233</td>\n",
       "      <td>0.225263</td>\n",
       "      <td>0.022551</td>\n",
       "      <td>-1</td>\n",
       "    </tr>\n",
       "    <tr>\n",
       "      <th>39</th>\n",
       "      <td>1</td>\n",
       "      <td>3</td>\n",
       "      <td>56159</td>\n",
       "      <td>555</td>\n",
       "      <td>902</td>\n",
       "      <td>10002</td>\n",
       "      <td>212</td>\n",
       "      <td>2916</td>\n",
       "      <td>0.009690</td>\n",
       "      <td>0.006808</td>\n",
       "      <td>0.500731</td>\n",
       "      <td>-1</td>\n",
       "    </tr>\n",
       "    <tr>\n",
       "      <th>437</th>\n",
       "      <td>2</td>\n",
       "      <td>3</td>\n",
       "      <td>14531</td>\n",
       "      <td>15488</td>\n",
       "      <td>30243</td>\n",
       "      <td>437</td>\n",
       "      <td>14841</td>\n",
       "      <td>1867</td>\n",
       "      <td>0.325943</td>\n",
       "      <td>0.210136</td>\n",
       "      <td>0.129543</td>\n",
       "      <td>-1</td>\n",
       "    </tr>\n",
       "    <tr>\n",
       "      <th>333</th>\n",
       "      <td>2</td>\n",
       "      <td>2</td>\n",
       "      <td>8565</td>\n",
       "      <td>4980</td>\n",
       "      <td>67298</td>\n",
       "      <td>131</td>\n",
       "      <td>38102</td>\n",
       "      <td>1215</td>\n",
       "      <td>0.725341</td>\n",
       "      <td>0.067059</td>\n",
       "      <td>0.076346</td>\n",
       "      <td>-1</td>\n",
       "    </tr>\n",
       "    <tr>\n",
       "      <th>319</th>\n",
       "      <td>2</td>\n",
       "      <td>2</td>\n",
       "      <td>9759</td>\n",
       "      <td>25071</td>\n",
       "      <td>17645</td>\n",
       "      <td>1128</td>\n",
       "      <td>12408</td>\n",
       "      <td>1625</td>\n",
       "      <td>0.190155</td>\n",
       "      <td>0.340618</td>\n",
       "      <td>0.086992</td>\n",
       "      <td>-1</td>\n",
       "    </tr>\n",
       "    <tr>\n",
       "      <th>85</th>\n",
       "      <td>2</td>\n",
       "      <td>3</td>\n",
       "      <td>16117</td>\n",
       "      <td>46197</td>\n",
       "      <td>92780</td>\n",
       "      <td>1026</td>\n",
       "      <td>40827</td>\n",
       "      <td>2944</td>\n",
       "      <td>1.000000</td>\n",
       "      <td>0.628270</td>\n",
       "      <td>0.143685</td>\n",
       "      <td>-1</td>\n",
       "    </tr>\n",
       "    <tr>\n",
       "      <th>49</th>\n",
       "      <td>2</td>\n",
       "      <td>3</td>\n",
       "      <td>4967</td>\n",
       "      <td>21412</td>\n",
       "      <td>28921</td>\n",
       "      <td>1798</td>\n",
       "      <td>13583</td>\n",
       "      <td>1163</td>\n",
       "      <td>0.311694</td>\n",
       "      <td>0.290797</td>\n",
       "      <td>0.044263</td>\n",
       "      <td>-1</td>\n",
       "    </tr>\n",
       "    <tr>\n",
       "      <th>254</th>\n",
       "      <td>1</td>\n",
       "      <td>1</td>\n",
       "      <td>10379</td>\n",
       "      <td>17972</td>\n",
       "      <td>4748</td>\n",
       "      <td>4686</td>\n",
       "      <td>1547</td>\n",
       "      <td>3265</td>\n",
       "      <td>0.051144</td>\n",
       "      <td>0.243958</td>\n",
       "      <td>0.092521</td>\n",
       "      <td>-1</td>\n",
       "    </tr>\n",
       "    <tr>\n",
       "      <th>47</th>\n",
       "      <td>2</td>\n",
       "      <td>3</td>\n",
       "      <td>44466</td>\n",
       "      <td>54259</td>\n",
       "      <td>55571</td>\n",
       "      <td>7782</td>\n",
       "      <td>24171</td>\n",
       "      <td>6465</td>\n",
       "      <td>0.598942</td>\n",
       "      <td>0.738042</td>\n",
       "      <td>0.396467</td>\n",
       "      <td>-1</td>\n",
       "    </tr>\n",
       "    <tr>\n",
       "      <th>258</th>\n",
       "      <td>1</td>\n",
       "      <td>1</td>\n",
       "      <td>56083</td>\n",
       "      <td>4563</td>\n",
       "      <td>2124</td>\n",
       "      <td>6422</td>\n",
       "      <td>730</td>\n",
       "      <td>3321</td>\n",
       "      <td>0.022861</td>\n",
       "      <td>0.061381</td>\n",
       "      <td>0.500054</td>\n",
       "      <td>-1</td>\n",
       "    </tr>\n",
       "  </tbody>\n",
       "</table>\n",
       "</div>"
      ],
      "text/plain": [
       "     Channel  Region  Fresh   Milk  Grocery  Frozen  Detergents_Paper  \\\n",
       "216        2       1   2532  16599    36486     179             13308   \n",
       "39         1       3  56159    555      902   10002               212   \n",
       "437        2       3  14531  15488    30243     437             14841   \n",
       "333        2       2   8565   4980    67298     131             38102   \n",
       "319        2       2   9759  25071    17645    1128             12408   \n",
       "85         2       3  16117  46197    92780    1026             40827   \n",
       "49         2       3   4967  21412    28921    1798             13583   \n",
       "254        1       1  10379  17972     4748    4686              1547   \n",
       "47         2       3  44466  54259    55571    7782             24171   \n",
       "258        1       1  56083   4563     2124    6422               730   \n",
       "\n",
       "     Delicassen  Scaled_Grocery  Scaled_Milk  Scaled_Fresh  gmf_labels  \n",
       "216         674        0.393233     0.225263      0.022551          -1  \n",
       "39         2916        0.009690     0.006808      0.500731          -1  \n",
       "437        1867        0.325943     0.210136      0.129543          -1  \n",
       "333        1215        0.725341     0.067059      0.076346          -1  \n",
       "319        1625        0.190155     0.340618      0.086992          -1  \n",
       "85         2944        1.000000     0.628270      0.143685          -1  \n",
       "49         1163        0.311694     0.290797      0.044263          -1  \n",
       "254        3265        0.051144     0.243958      0.092521          -1  \n",
       "47         6465        0.598942     0.738042      0.396467          -1  \n",
       "258        3321        0.022861     0.061381      0.500054          -1  "
      ]
     },
     "execution_count": 19,
     "metadata": {},
     "output_type": "execute_result"
    }
   ],
   "source": [
    "#see what this data looks like\n",
    "anomalies.sample(10)"
   ]
  },
  {
   "cell_type": "markdown",
   "id": "a6401c58",
   "metadata": {},
   "source": [
    "<div class=\"alert alert-block alert-success\">\n",
    "<b>Takeaways:</b>\n",
    "<br>\n",
    "\n",
    "- In the entire dataframe, it appears that we only have 31 data points that are anomalies.\n",
    "- In future iterations, I'd want to look into what these data points have in common (if anything)\n",
    "</div>"
   ]
  }
 ],
 "metadata": {
  "kernelspec": {
   "display_name": "Python 3 (ipykernel)",
   "language": "python",
   "name": "python3"
  },
  "language_info": {
   "codemirror_mode": {
    "name": "ipython",
    "version": 3
   },
   "file_extension": ".py",
   "mimetype": "text/x-python",
   "name": "python",
   "nbconvert_exporter": "python",
   "pygments_lexer": "ipython3",
   "version": "3.9.13"
  }
 },
 "nbformat": 4,
 "nbformat_minor": 5
}
