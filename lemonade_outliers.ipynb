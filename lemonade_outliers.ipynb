{
 "cells": [
  {
   "cell_type": "markdown",
   "metadata": {},
   "source": [
    "## The following example detects/handles outliers without a rule, only domain knowledge\n",
    "\n",
    "- The best way to detect anomalies is to know your domain\n",
    "- While there are rules and heuristics for detecting outliers\n",
    "- One analysts's noise is another analyst's signal (depending on what they're looking for)\n",
    "- What determines if a data point is an outlier is a function of who determines if that data point is anomalous and why."
   ]
  },
  {
   "cell_type": "code",
   "execution_count": 1,
   "metadata": {},
   "outputs": [],
   "source": [
    "import pandas as pd\n",
    "import numpy as np\n",
    "import matplotlib.pyplot as plt\n",
    "import seaborn as sns"
   ]
  },
  {
   "cell_type": "code",
   "execution_count": 2,
   "metadata": {},
   "outputs": [
    {
     "data": {
      "text/html": [
       "<div>\n",
       "<style scoped>\n",
       "    .dataframe tbody tr th:only-of-type {\n",
       "        vertical-align: middle;\n",
       "    }\n",
       "\n",
       "    .dataframe tbody tr th {\n",
       "        vertical-align: top;\n",
       "    }\n",
       "\n",
       "    .dataframe thead th {\n",
       "        text-align: right;\n",
       "    }\n",
       "</style>\n",
       "<table border=\"1\" class=\"dataframe\">\n",
       "  <thead>\n",
       "    <tr style=\"text-align: right;\">\n",
       "      <th></th>\n",
       "      <th>Date</th>\n",
       "      <th>Day</th>\n",
       "      <th>Temperature</th>\n",
       "      <th>Rainfall</th>\n",
       "      <th>Flyers</th>\n",
       "      <th>Price</th>\n",
       "      <th>Sales</th>\n",
       "    </tr>\n",
       "  </thead>\n",
       "  <tbody>\n",
       "    <tr>\n",
       "      <th>0</th>\n",
       "      <td>1/1/17</td>\n",
       "      <td>Sunday</td>\n",
       "      <td>27.0</td>\n",
       "      <td>2.00</td>\n",
       "      <td>15</td>\n",
       "      <td>0.5</td>\n",
       "      <td>10</td>\n",
       "    </tr>\n",
       "    <tr>\n",
       "      <th>1</th>\n",
       "      <td>1/2/17</td>\n",
       "      <td>Monday</td>\n",
       "      <td>28.9</td>\n",
       "      <td>1.33</td>\n",
       "      <td>15</td>\n",
       "      <td>0.5</td>\n",
       "      <td>13</td>\n",
       "    </tr>\n",
       "    <tr>\n",
       "      <th>2</th>\n",
       "      <td>1/3/17</td>\n",
       "      <td>Tuesday</td>\n",
       "      <td>34.5</td>\n",
       "      <td>1.33</td>\n",
       "      <td>27</td>\n",
       "      <td>0.5</td>\n",
       "      <td>15</td>\n",
       "    </tr>\n",
       "    <tr>\n",
       "      <th>3</th>\n",
       "      <td>1/4/17</td>\n",
       "      <td>Wednesday</td>\n",
       "      <td>44.1</td>\n",
       "      <td>1.05</td>\n",
       "      <td>28</td>\n",
       "      <td>0.5</td>\n",
       "      <td>17</td>\n",
       "    </tr>\n",
       "    <tr>\n",
       "      <th>4</th>\n",
       "      <td>1/5/17</td>\n",
       "      <td>Thursday</td>\n",
       "      <td>42.4</td>\n",
       "      <td>1.00</td>\n",
       "      <td>33</td>\n",
       "      <td>0.5</td>\n",
       "      <td>18</td>\n",
       "    </tr>\n",
       "  </tbody>\n",
       "</table>\n",
       "</div>"
      ],
      "text/plain": [
       "     Date        Day  Temperature  Rainfall  Flyers  Price  Sales\n",
       "0  1/1/17     Sunday         27.0      2.00      15    0.5     10\n",
       "1  1/2/17     Monday         28.9      1.33      15    0.5     13\n",
       "2  1/3/17    Tuesday         34.5      1.33      27    0.5     15\n",
       "3  1/4/17  Wednesday         44.1      1.05      28    0.5     17\n",
       "4  1/5/17   Thursday         42.4      1.00      33    0.5     18"
      ]
     },
     "execution_count": 2,
     "metadata": {},
     "output_type": "execute_result"
    }
   ],
   "source": [
    "url = \"https://gist.githubusercontent.com/ryanorsinger/19bc7eccd6279661bd13307026628ace/raw/e4b5d6787015a4782f96cad6d1d62a8bdbac54c7/lemonade.csv\"\n",
    "\n",
    "df = pd.read_csv(url)\n",
    "# df = pd.read_csv(\"lemonade.csv\")\n",
    "df.head()"
   ]
  },
  {
   "cell_type": "markdown",
   "metadata": {},
   "source": [
    "## Set the Date column to be a datetime type and the index"
   ]
  },
  {
   "cell_type": "code",
   "execution_count": 3,
   "metadata": {},
   "outputs": [
    {
     "data": {
      "text/html": [
       "<div>\n",
       "<style scoped>\n",
       "    .dataframe tbody tr th:only-of-type {\n",
       "        vertical-align: middle;\n",
       "    }\n",
       "\n",
       "    .dataframe tbody tr th {\n",
       "        vertical-align: top;\n",
       "    }\n",
       "\n",
       "    .dataframe thead th {\n",
       "        text-align: right;\n",
       "    }\n",
       "</style>\n",
       "<table border=\"1\" class=\"dataframe\">\n",
       "  <thead>\n",
       "    <tr style=\"text-align: right;\">\n",
       "      <th></th>\n",
       "      <th>Day</th>\n",
       "      <th>Temperature</th>\n",
       "      <th>Rainfall</th>\n",
       "      <th>Flyers</th>\n",
       "      <th>Price</th>\n",
       "      <th>Sales</th>\n",
       "    </tr>\n",
       "    <tr>\n",
       "      <th>Date</th>\n",
       "      <th></th>\n",
       "      <th></th>\n",
       "      <th></th>\n",
       "      <th></th>\n",
       "      <th></th>\n",
       "      <th></th>\n",
       "    </tr>\n",
       "  </thead>\n",
       "  <tbody>\n",
       "    <tr>\n",
       "      <th>2017-01-01</th>\n",
       "      <td>Sunday</td>\n",
       "      <td>27.0</td>\n",
       "      <td>2.00</td>\n",
       "      <td>15</td>\n",
       "      <td>0.5</td>\n",
       "      <td>10</td>\n",
       "    </tr>\n",
       "    <tr>\n",
       "      <th>2017-01-02</th>\n",
       "      <td>Monday</td>\n",
       "      <td>28.9</td>\n",
       "      <td>1.33</td>\n",
       "      <td>15</td>\n",
       "      <td>0.5</td>\n",
       "      <td>13</td>\n",
       "    </tr>\n",
       "    <tr>\n",
       "      <th>2017-01-03</th>\n",
       "      <td>Tuesday</td>\n",
       "      <td>34.5</td>\n",
       "      <td>1.33</td>\n",
       "      <td>27</td>\n",
       "      <td>0.5</td>\n",
       "      <td>15</td>\n",
       "    </tr>\n",
       "    <tr>\n",
       "      <th>2017-01-04</th>\n",
       "      <td>Wednesday</td>\n",
       "      <td>44.1</td>\n",
       "      <td>1.05</td>\n",
       "      <td>28</td>\n",
       "      <td>0.5</td>\n",
       "      <td>17</td>\n",
       "    </tr>\n",
       "    <tr>\n",
       "      <th>2017-01-05</th>\n",
       "      <td>Thursday</td>\n",
       "      <td>42.4</td>\n",
       "      <td>1.00</td>\n",
       "      <td>33</td>\n",
       "      <td>0.5</td>\n",
       "      <td>18</td>\n",
       "    </tr>\n",
       "  </tbody>\n",
       "</table>\n",
       "</div>"
      ],
      "text/plain": [
       "                  Day  Temperature  Rainfall  Flyers  Price  Sales\n",
       "Date                                                              \n",
       "2017-01-01     Sunday         27.0      2.00      15    0.5     10\n",
       "2017-01-02     Monday         28.9      1.33      15    0.5     13\n",
       "2017-01-03    Tuesday         34.5      1.33      27    0.5     15\n",
       "2017-01-04  Wednesday         44.1      1.05      28    0.5     17\n",
       "2017-01-05   Thursday         42.4      1.00      33    0.5     18"
      ]
     },
     "execution_count": 3,
     "metadata": {},
     "output_type": "execute_result"
    }
   ],
   "source": [
    "df.Date = pd.to_datetime(df.Date)\n",
    "df = df.set_index(\"Date\")\n",
    "df.head()"
   ]
  },
  {
   "cell_type": "markdown",
   "metadata": {},
   "source": [
    "## Create a month column"
   ]
  },
  {
   "cell_type": "code",
   "execution_count": 4,
   "metadata": {},
   "outputs": [],
   "source": [
    "df[\"month\"] = df.index.month_name()"
   ]
  },
  {
   "cell_type": "code",
   "execution_count": 5,
   "metadata": {},
   "outputs": [
    {
     "data": {
      "text/html": [
       "<div>\n",
       "<style scoped>\n",
       "    .dataframe tbody tr th:only-of-type {\n",
       "        vertical-align: middle;\n",
       "    }\n",
       "\n",
       "    .dataframe tbody tr th {\n",
       "        vertical-align: top;\n",
       "    }\n",
       "\n",
       "    .dataframe thead th {\n",
       "        text-align: right;\n",
       "    }\n",
       "</style>\n",
       "<table border=\"1\" class=\"dataframe\">\n",
       "  <thead>\n",
       "    <tr style=\"text-align: right;\">\n",
       "      <th></th>\n",
       "      <th>Day</th>\n",
       "      <th>Temperature</th>\n",
       "      <th>Rainfall</th>\n",
       "      <th>Flyers</th>\n",
       "      <th>Price</th>\n",
       "      <th>Sales</th>\n",
       "      <th>month</th>\n",
       "    </tr>\n",
       "    <tr>\n",
       "      <th>Date</th>\n",
       "      <th></th>\n",
       "      <th></th>\n",
       "      <th></th>\n",
       "      <th></th>\n",
       "      <th></th>\n",
       "      <th></th>\n",
       "      <th></th>\n",
       "    </tr>\n",
       "  </thead>\n",
       "  <tbody>\n",
       "    <tr>\n",
       "      <th>2017-01-01</th>\n",
       "      <td>Sunday</td>\n",
       "      <td>27.0</td>\n",
       "      <td>2.00</td>\n",
       "      <td>15</td>\n",
       "      <td>0.5</td>\n",
       "      <td>10</td>\n",
       "      <td>January</td>\n",
       "    </tr>\n",
       "    <tr>\n",
       "      <th>2017-01-02</th>\n",
       "      <td>Monday</td>\n",
       "      <td>28.9</td>\n",
       "      <td>1.33</td>\n",
       "      <td>15</td>\n",
       "      <td>0.5</td>\n",
       "      <td>13</td>\n",
       "      <td>January</td>\n",
       "    </tr>\n",
       "    <tr>\n",
       "      <th>2017-01-03</th>\n",
       "      <td>Tuesday</td>\n",
       "      <td>34.5</td>\n",
       "      <td>1.33</td>\n",
       "      <td>27</td>\n",
       "      <td>0.5</td>\n",
       "      <td>15</td>\n",
       "      <td>January</td>\n",
       "    </tr>\n",
       "    <tr>\n",
       "      <th>2017-01-04</th>\n",
       "      <td>Wednesday</td>\n",
       "      <td>44.1</td>\n",
       "      <td>1.05</td>\n",
       "      <td>28</td>\n",
       "      <td>0.5</td>\n",
       "      <td>17</td>\n",
       "      <td>January</td>\n",
       "    </tr>\n",
       "    <tr>\n",
       "      <th>2017-01-05</th>\n",
       "      <td>Thursday</td>\n",
       "      <td>42.4</td>\n",
       "      <td>1.00</td>\n",
       "      <td>33</td>\n",
       "      <td>0.5</td>\n",
       "      <td>18</td>\n",
       "      <td>January</td>\n",
       "    </tr>\n",
       "  </tbody>\n",
       "</table>\n",
       "</div>"
      ],
      "text/plain": [
       "                  Day  Temperature  Rainfall  Flyers  Price  Sales    month\n",
       "Date                                                                       \n",
       "2017-01-01     Sunday         27.0      2.00      15    0.5     10  January\n",
       "2017-01-02     Monday         28.9      1.33      15    0.5     13  January\n",
       "2017-01-03    Tuesday         34.5      1.33      27    0.5     15  January\n",
       "2017-01-04  Wednesday         44.1      1.05      28    0.5     17  January\n",
       "2017-01-05   Thursday         42.4      1.00      33    0.5     18  January"
      ]
     },
     "execution_count": 5,
     "metadata": {},
     "output_type": "execute_result"
    }
   ],
   "source": [
    "df.head()"
   ]
  },
  {
   "cell_type": "markdown",
   "metadata": {},
   "source": [
    "## Get to know the data before using any rules for keeping/removing outliers\n",
    "1. Visualize the continuous variables \n",
    "2. Like with vizualizing Anscombe's Quartet\n",
    "    - We're looking for patterns and a picture is worth 1000 words.\n",
    "    - By plotting values, we see more of the picture than `.describe` can show on its own"
   ]
  },
  {
   "cell_type": "code",
   "execution_count": 6,
   "metadata": {},
   "outputs": [
    {
     "data": {
      "image/png": "[encoded data removed]",
      "text/plain": [
       "<Figure size 1000x500 with 1 Axes>"
      ]
     },
     "metadata": {},
     "output_type": "display_data"
    }
   ],
   "source": [
    "plt.figure(figsize=(10,5))\n",
    "plt.scatter(df.month, df.Temperature)\n",
    "plt.ylabel(\"Degrees Fahrenheit\")\n",
    "plt.show()"
   ]
  },
  {
   "cell_type": "code",
   "execution_count": 7,
   "metadata": {},
   "outputs": [
    {
     "data": {
      "text/html": [
       "<div>\n",
       "<style scoped>\n",
       "    .dataframe tbody tr th:only-of-type {\n",
       "        vertical-align: middle;\n",
       "    }\n",
       "\n",
       "    .dataframe tbody tr th {\n",
       "        vertical-align: top;\n",
       "    }\n",
       "\n",
       "    .dataframe thead th {\n",
       "        text-align: right;\n",
       "    }\n",
       "</style>\n",
       "<table border=\"1\" class=\"dataframe\">\n",
       "  <thead>\n",
       "    <tr style=\"text-align: right;\">\n",
       "      <th></th>\n",
       "      <th>Day</th>\n",
       "      <th>Temperature</th>\n",
       "      <th>Rainfall</th>\n",
       "      <th>Flyers</th>\n",
       "      <th>Price</th>\n",
       "      <th>Sales</th>\n",
       "      <th>month</th>\n",
       "    </tr>\n",
       "    <tr>\n",
       "      <th>Date</th>\n",
       "      <th></th>\n",
       "      <th></th>\n",
       "      <th></th>\n",
       "      <th></th>\n",
       "      <th></th>\n",
       "      <th></th>\n",
       "      <th></th>\n",
       "    </tr>\n",
       "  </thead>\n",
       "  <tbody>\n",
       "    <tr>\n",
       "      <th>2017-02-11</th>\n",
       "      <td>Saturday</td>\n",
       "      <td>212.0</td>\n",
       "      <td>0.91</td>\n",
       "      <td>35</td>\n",
       "      <td>0.5</td>\n",
       "      <td>21</td>\n",
       "      <td>February</td>\n",
       "    </tr>\n",
       "    <tr>\n",
       "      <th>2017-06-26</th>\n",
       "      <td>Monday</td>\n",
       "      <td>102.6</td>\n",
       "      <td>0.47</td>\n",
       "      <td>60</td>\n",
       "      <td>0.5</td>\n",
       "      <td>42</td>\n",
       "      <td>June</td>\n",
       "    </tr>\n",
       "    <tr>\n",
       "      <th>2017-07-01</th>\n",
       "      <td>Saturday</td>\n",
       "      <td>102.9</td>\n",
       "      <td>0.47</td>\n",
       "      <td>59</td>\n",
       "      <td>0.5</td>\n",
       "      <td>143</td>\n",
       "      <td>July</td>\n",
       "    </tr>\n",
       "  </tbody>\n",
       "</table>\n",
       "</div>"
      ],
      "text/plain": [
       "                 Day  Temperature  Rainfall  Flyers  Price  Sales     month\n",
       "Date                                                                       \n",
       "2017-02-11  Saturday        212.0      0.91      35    0.5     21  February\n",
       "2017-06-26    Monday        102.6      0.47      60    0.5     42      June\n",
       "2017-07-01  Saturday        102.9      0.47      59    0.5    143      July"
      ]
     },
     "execution_count": 7,
     "metadata": {},
     "output_type": "execute_result"
    }
   ],
   "source": [
    "# Let's look at the highest temperature days\n",
    "# Looks like something is going on with that temperature above 200...\n",
    "df[df.Temperature > 100]"
   ]
  },
  {
   "cell_type": "code",
   "execution_count": 8,
   "metadata": {},
   "outputs": [
    {
     "data": {
      "text/html": [
       "<div>\n",
       "<style scoped>\n",
       "    .dataframe tbody tr th:only-of-type {\n",
       "        vertical-align: middle;\n",
       "    }\n",
       "\n",
       "    .dataframe tbody tr th {\n",
       "        vertical-align: top;\n",
       "    }\n",
       "\n",
       "    .dataframe thead th {\n",
       "        text-align: right;\n",
       "    }\n",
       "</style>\n",
       "<table border=\"1\" class=\"dataframe\">\n",
       "  <thead>\n",
       "    <tr style=\"text-align: right;\">\n",
       "      <th></th>\n",
       "      <th>Day</th>\n",
       "      <th>Temperature</th>\n",
       "      <th>Rainfall</th>\n",
       "      <th>Flyers</th>\n",
       "      <th>Price</th>\n",
       "      <th>Sales</th>\n",
       "      <th>month</th>\n",
       "    </tr>\n",
       "    <tr>\n",
       "      <th>Date</th>\n",
       "      <th></th>\n",
       "      <th></th>\n",
       "      <th></th>\n",
       "      <th></th>\n",
       "      <th></th>\n",
       "      <th></th>\n",
       "      <th></th>\n",
       "    </tr>\n",
       "  </thead>\n",
       "  <tbody>\n",
       "    <tr>\n",
       "      <th>2017-02-09</th>\n",
       "      <td>Thursday</td>\n",
       "      <td>42.7</td>\n",
       "      <td>1.00</td>\n",
       "      <td>39</td>\n",
       "      <td>0.5</td>\n",
       "      <td>19</td>\n",
       "      <td>February</td>\n",
       "    </tr>\n",
       "    <tr>\n",
       "      <th>2017-02-10</th>\n",
       "      <td>Friday</td>\n",
       "      <td>50.0</td>\n",
       "      <td>0.91</td>\n",
       "      <td>40</td>\n",
       "      <td>0.5</td>\n",
       "      <td>20</td>\n",
       "      <td>February</td>\n",
       "    </tr>\n",
       "    <tr>\n",
       "      <th>2017-02-11</th>\n",
       "      <td>Saturday</td>\n",
       "      <td>212.0</td>\n",
       "      <td>0.91</td>\n",
       "      <td>35</td>\n",
       "      <td>0.5</td>\n",
       "      <td>21</td>\n",
       "      <td>February</td>\n",
       "    </tr>\n",
       "    <tr>\n",
       "      <th>2017-02-12</th>\n",
       "      <td>Sunday</td>\n",
       "      <td>55.6</td>\n",
       "      <td>0.83</td>\n",
       "      <td>41</td>\n",
       "      <td>0.5</td>\n",
       "      <td>22</td>\n",
       "      <td>February</td>\n",
       "    </tr>\n",
       "    <tr>\n",
       "      <th>2017-02-13</th>\n",
       "      <td>Monday</td>\n",
       "      <td>46.4</td>\n",
       "      <td>1.11</td>\n",
       "      <td>34</td>\n",
       "      <td>0.5</td>\n",
       "      <td>18</td>\n",
       "      <td>February</td>\n",
       "    </tr>\n",
       "  </tbody>\n",
       "</table>\n",
       "</div>"
      ],
      "text/plain": [
       "                 Day  Temperature  Rainfall  Flyers  Price  Sales     month\n",
       "Date                                                                       \n",
       "2017-02-09  Thursday         42.7      1.00      39    0.5     19  February\n",
       "2017-02-10    Friday         50.0      0.91      40    0.5     20  February\n",
       "2017-02-11  Saturday        212.0      0.91      35    0.5     21  February\n",
       "2017-02-12    Sunday         55.6      0.83      41    0.5     22  February\n",
       "2017-02-13    Monday         46.4      1.11      34    0.5     18  February"
      ]
     },
     "execution_count": 8,
     "metadata": {},
     "output_type": "execute_result"
    }
   ],
   "source": [
    "# Let's take a look at the days nearby.\n",
    "df.loc[\"2017-02-09\":\"2017-02-13\"]"
   ]
  },
  {
   "cell_type": "markdown",
   "metadata": {},
   "source": [
    "### What's the story with Feb 11th? \n",
    "- This outlier is so funky/unreal, it might as well be a null\n",
    "- If we drop the entire row, then we have an entire row of nulls\n",
    "- We could replace this day's temperature with the day before, the day after, or average the week. \n",
    "- I'd rather replace this value with a temperature from February than the average of the year."
   ]
  },
  {
   "cell_type": "code",
   "execution_count": 9,
   "metadata": {},
   "outputs": [],
   "source": [
    "# Let's assign the temperature for this day to be the same temperature as yesterday\n",
    "df.loc[df.Temperature == 212, \"Temperature\"] = df.loc[\"2017-02-10\"].Temperature"
   ]
  },
  {
   "cell_type": "code",
   "execution_count": 10,
   "metadata": {},
   "outputs": [
    {
     "data": {
      "text/html": [
       "<div>\n",
       "<style scoped>\n",
       "    .dataframe tbody tr th:only-of-type {\n",
       "        vertical-align: middle;\n",
       "    }\n",
       "\n",
       "    .dataframe tbody tr th {\n",
       "        vertical-align: top;\n",
       "    }\n",
       "\n",
       "    .dataframe thead th {\n",
       "        text-align: right;\n",
       "    }\n",
       "</style>\n",
       "<table border=\"1\" class=\"dataframe\">\n",
       "  <thead>\n",
       "    <tr style=\"text-align: right;\">\n",
       "      <th></th>\n",
       "      <th>Day</th>\n",
       "      <th>Temperature</th>\n",
       "      <th>Rainfall</th>\n",
       "      <th>Flyers</th>\n",
       "      <th>Price</th>\n",
       "      <th>Sales</th>\n",
       "      <th>month</th>\n",
       "    </tr>\n",
       "    <tr>\n",
       "      <th>Date</th>\n",
       "      <th></th>\n",
       "      <th></th>\n",
       "      <th></th>\n",
       "      <th></th>\n",
       "      <th></th>\n",
       "      <th></th>\n",
       "      <th></th>\n",
       "    </tr>\n",
       "  </thead>\n",
       "  <tbody>\n",
       "    <tr>\n",
       "      <th>2017-02-09</th>\n",
       "      <td>Thursday</td>\n",
       "      <td>42.7</td>\n",
       "      <td>1.00</td>\n",
       "      <td>39</td>\n",
       "      <td>0.5</td>\n",
       "      <td>19</td>\n",
       "      <td>February</td>\n",
       "    </tr>\n",
       "    <tr>\n",
       "      <th>2017-02-10</th>\n",
       "      <td>Friday</td>\n",
       "      <td>50.0</td>\n",
       "      <td>0.91</td>\n",
       "      <td>40</td>\n",
       "      <td>0.5</td>\n",
       "      <td>20</td>\n",
       "      <td>February</td>\n",
       "    </tr>\n",
       "    <tr>\n",
       "      <th>2017-02-11</th>\n",
       "      <td>Saturday</td>\n",
       "      <td>50.0</td>\n",
       "      <td>0.91</td>\n",
       "      <td>35</td>\n",
       "      <td>0.5</td>\n",
       "      <td>21</td>\n",
       "      <td>February</td>\n",
       "    </tr>\n",
       "  </tbody>\n",
       "</table>\n",
       "</div>"
      ],
      "text/plain": [
       "                 Day  Temperature  Rainfall  Flyers  Price  Sales     month\n",
       "Date                                                                       \n",
       "2017-02-09  Thursday         42.7      1.00      39    0.5     19  February\n",
       "2017-02-10    Friday         50.0      0.91      40    0.5     20  February\n",
       "2017-02-11  Saturday         50.0      0.91      35    0.5     21  February"
      ]
     },
     "execution_count": 10,
     "metadata": {},
     "output_type": "execute_result"
    }
   ],
   "source": [
    "# Ensure that the outlier was replaced with the previous day's temperature\n",
    "df.loc[\"2017-02-09\":\"2017-02-11\"]"
   ]
  },
  {
   "cell_type": "markdown",
   "metadata": {},
   "source": [
    "### Let's check for anomalies in the Flyers column\n",
    "- Easiest way to check is to visualize the value"
   ]
  },
  {
   "cell_type": "code",
   "execution_count": 11,
   "metadata": {},
   "outputs": [
    {
     "data": {
      "text/plain": [
       "Text(0, 0.5, 'Number of Flyers')"
      ]
     },
     "execution_count": 11,
     "metadata": {},
     "output_type": "execute_result"
    },
    {
     "data": {
      "image/png": "[encoded data removed]",
      "text/plain": [
       "<Figure size 1000x700 with 1 Axes>"
      ]
     },
     "metadata": {},
     "output_type": "display_data"
    }
   ],
   "source": [
    "plt.figure(figsize=(10, 7))\n",
    "plt.scatter(df.month, df.Flyers)\n",
    "plt.ylabel('Number of Flyers')"
   ]
  },
  {
   "cell_type": "code",
   "execution_count": 12,
   "metadata": {},
   "outputs": [
    {
     "data": {
      "text/plain": [
       "Timestamp('2017-11-21 00:00:00')"
      ]
     },
     "execution_count": 12,
     "metadata": {},
     "output_type": "execute_result"
    }
   ],
   "source": [
    "# What is the index of that negative Flyer value?\n",
    "df.Flyers.idxmin()"
   ]
  },
  {
   "cell_type": "code",
   "execution_count": 13,
   "metadata": {},
   "outputs": [
    {
     "data": {
      "text/html": [
       "<div>\n",
       "<style scoped>\n",
       "    .dataframe tbody tr th:only-of-type {\n",
       "        vertical-align: middle;\n",
       "    }\n",
       "\n",
       "    .dataframe tbody tr th {\n",
       "        vertical-align: top;\n",
       "    }\n",
       "\n",
       "    .dataframe thead th {\n",
       "        text-align: right;\n",
       "    }\n",
       "</style>\n",
       "<table border=\"1\" class=\"dataframe\">\n",
       "  <thead>\n",
       "    <tr style=\"text-align: right;\">\n",
       "      <th></th>\n",
       "      <th>Day</th>\n",
       "      <th>Temperature</th>\n",
       "      <th>Rainfall</th>\n",
       "      <th>Flyers</th>\n",
       "      <th>Price</th>\n",
       "      <th>Sales</th>\n",
       "      <th>month</th>\n",
       "    </tr>\n",
       "    <tr>\n",
       "      <th>Date</th>\n",
       "      <th></th>\n",
       "      <th></th>\n",
       "      <th></th>\n",
       "      <th></th>\n",
       "      <th></th>\n",
       "      <th></th>\n",
       "      <th></th>\n",
       "    </tr>\n",
       "  </thead>\n",
       "  <tbody>\n",
       "    <tr>\n",
       "      <th>2017-11-19</th>\n",
       "      <td>Sunday</td>\n",
       "      <td>55.9</td>\n",
       "      <td>0.87</td>\n",
       "      <td>34</td>\n",
       "      <td>0.5</td>\n",
       "      <td>23</td>\n",
       "      <td>November</td>\n",
       "    </tr>\n",
       "    <tr>\n",
       "      <th>2017-11-20</th>\n",
       "      <td>Monday</td>\n",
       "      <td>55.6</td>\n",
       "      <td>0.87</td>\n",
       "      <td>41</td>\n",
       "      <td>0.5</td>\n",
       "      <td>22</td>\n",
       "      <td>November</td>\n",
       "    </tr>\n",
       "    <tr>\n",
       "      <th>2017-11-21</th>\n",
       "      <td>Tuesday</td>\n",
       "      <td>47.0</td>\n",
       "      <td>0.95</td>\n",
       "      <td>-38</td>\n",
       "      <td>0.5</td>\n",
       "      <td>20</td>\n",
       "      <td>November</td>\n",
       "    </tr>\n",
       "    <tr>\n",
       "      <th>2017-11-22</th>\n",
       "      <td>Wednesday</td>\n",
       "      <td>48.7</td>\n",
       "      <td>1.00</td>\n",
       "      <td>40</td>\n",
       "      <td>0.5</td>\n",
       "      <td>19</td>\n",
       "      <td>November</td>\n",
       "    </tr>\n",
       "    <tr>\n",
       "      <th>2017-11-23</th>\n",
       "      <td>Thursday</td>\n",
       "      <td>51.9</td>\n",
       "      <td>0.87</td>\n",
       "      <td>47</td>\n",
       "      <td>0.5</td>\n",
       "      <td>23</td>\n",
       "      <td>November</td>\n",
       "    </tr>\n",
       "  </tbody>\n",
       "</table>\n",
       "</div>"
      ],
      "text/plain": [
       "                  Day  Temperature  Rainfall  Flyers  Price  Sales     month\n",
       "Date                                                                        \n",
       "2017-11-19     Sunday         55.9      0.87      34    0.5     23  November\n",
       "2017-11-20     Monday         55.6      0.87      41    0.5     22  November\n",
       "2017-11-21    Tuesday         47.0      0.95     -38    0.5     20  November\n",
       "2017-11-22  Wednesday         48.7      1.00      40    0.5     19  November\n",
       "2017-11-23   Thursday         51.9      0.87      47    0.5     23  November"
      ]
     },
     "execution_count": 13,
     "metadata": {},
     "output_type": "execute_result"
    }
   ],
   "source": [
    "# Negative flyers don't make sense. Let's look at what's going on near that observation\n",
    "df.loc[\"2017-11-19\":\"2017-11-23\"]"
   ]
  },
  {
   "cell_type": "code",
   "execution_count": 14,
   "metadata": {},
   "outputs": [
    {
     "data": {
      "text/plain": [
       "38"
      ]
     },
     "execution_count": 14,
     "metadata": {},
     "output_type": "execute_result"
    }
   ],
   "source": [
    "# It looks like this negative flyer value is a simple typo\n",
    "# And since the business isn't giving out a negative amount of promotional flyers, then we can take the absolute value\n",
    "df.Flyers = df.Flyers.abs()\n",
    "df.loc[\"2017-11-21\"].Flyers"
   ]
  },
  {
   "cell_type": "markdown",
   "metadata": {},
   "source": [
    "### Let's look at the rainfall data\n",
    "- Looks good, no funky anomalies\n",
    "- It seems to always be raining at this location, but other than that, things look good."
   ]
  },
  {
   "cell_type": "code",
   "execution_count": 15,
   "metadata": {},
   "outputs": [
    {
     "data": {
      "image/png": "[encoded data removed]",
      "text/plain": [
       "<Figure size 1000x700 with 1 Axes>"
      ]
     },
     "metadata": {},
     "output_type": "display_data"
    }
   ],
   "source": [
    "plt.figure(figsize=(10,7))\n",
    "plt.ylabel(\"Rainfall\")\n",
    "plt.scatter(df.month, df.Rainfall)\n",
    "plt.show()"
   ]
  },
  {
   "cell_type": "markdown",
   "metadata": {},
   "source": [
    "### Let's Check Sales Data for Anomalies"
   ]
  },
  {
   "cell_type": "code",
   "execution_count": 16,
   "metadata": {},
   "outputs": [
    {
     "data": {
      "image/png": "[encoded data removed]",
      "text/plain": [
       "<Figure size 1000x700 with 1 Axes>"
      ]
     },
     "metadata": {},
     "output_type": "display_data"
    }
   ],
   "source": [
    "plt.figure(figsize=(10, 7))\n",
    "plt.scatter(df.month, df.Sales)\n",
    "plt.ylabel(\"Number of units sold\")\n",
    "plt.show()"
   ]
  },
  {
   "cell_type": "code",
   "execution_count": 17,
   "metadata": {},
   "outputs": [
    {
     "data": {
      "text/html": [
       "<div>\n",
       "<style scoped>\n",
       "    .dataframe tbody tr th:only-of-type {\n",
       "        vertical-align: middle;\n",
       "    }\n",
       "\n",
       "    .dataframe tbody tr th {\n",
       "        vertical-align: top;\n",
       "    }\n",
       "\n",
       "    .dataframe thead th {\n",
       "        text-align: right;\n",
       "    }\n",
       "</style>\n",
       "<table border=\"1\" class=\"dataframe\">\n",
       "  <thead>\n",
       "    <tr style=\"text-align: right;\">\n",
       "      <th></th>\n",
       "      <th>Day</th>\n",
       "      <th>Temperature</th>\n",
       "      <th>Rainfall</th>\n",
       "      <th>Flyers</th>\n",
       "      <th>Price</th>\n",
       "      <th>Sales</th>\n",
       "      <th>month</th>\n",
       "    </tr>\n",
       "    <tr>\n",
       "      <th>Date</th>\n",
       "      <th></th>\n",
       "      <th></th>\n",
       "      <th></th>\n",
       "      <th></th>\n",
       "      <th></th>\n",
       "      <th></th>\n",
       "      <th></th>\n",
       "    </tr>\n",
       "  </thead>\n",
       "  <tbody>\n",
       "    <tr>\n",
       "      <th>2017-07-01</th>\n",
       "      <td>Saturday</td>\n",
       "      <td>102.9</td>\n",
       "      <td>0.47</td>\n",
       "      <td>59</td>\n",
       "      <td>0.5</td>\n",
       "      <td>143</td>\n",
       "      <td>July</td>\n",
       "    </tr>\n",
       "    <tr>\n",
       "      <th>2017-07-02</th>\n",
       "      <td>Sunday</td>\n",
       "      <td>93.4</td>\n",
       "      <td>0.51</td>\n",
       "      <td>68</td>\n",
       "      <td>0.5</td>\n",
       "      <td>158</td>\n",
       "      <td>July</td>\n",
       "    </tr>\n",
       "    <tr>\n",
       "      <th>2017-07-03</th>\n",
       "      <td>Monday</td>\n",
       "      <td>81.5</td>\n",
       "      <td>0.54</td>\n",
       "      <td>68</td>\n",
       "      <td>0.5</td>\n",
       "      <td>235</td>\n",
       "      <td>July</td>\n",
       "    </tr>\n",
       "    <tr>\n",
       "      <th>2017-07-04</th>\n",
       "      <td>Tuesday</td>\n",
       "      <td>84.2</td>\n",
       "      <td>0.59</td>\n",
       "      <td>49</td>\n",
       "      <td>0.5</td>\n",
       "      <td>534</td>\n",
       "      <td>July</td>\n",
       "    </tr>\n",
       "  </tbody>\n",
       "</table>\n",
       "</div>"
      ],
      "text/plain": [
       "                 Day  Temperature  Rainfall  Flyers  Price  Sales month\n",
       "Date                                                                   \n",
       "2017-07-01  Saturday        102.9      0.47      59    0.5    143  July\n",
       "2017-07-02    Sunday         93.4      0.51      68    0.5    158  July\n",
       "2017-07-03    Monday         81.5      0.54      68    0.5    235  July\n",
       "2017-07-04   Tuesday         84.2      0.59      49    0.5    534  July"
      ]
     },
     "execution_count": 17,
     "metadata": {},
     "output_type": "execute_result"
    }
   ],
   "source": [
    "# Let's look at the rows with high sales a little more closely\n",
    "df[df.Sales > 50]"
   ]
  },
  {
   "cell_type": "markdown",
   "metadata": {},
   "source": [
    "### What other information do these rows tell us?\n",
    "- The other continuous data doesn't tell us much\n",
    "- What about the dates? \n",
    "- **hint** What is special about the day with the highest sales?"
   ]
  },
  {
   "cell_type": "markdown",
   "metadata": {},
   "source": [
    "### Should we keep the Sales outliers?\n",
    "- If we're running this business in Texas and we're looking to franchise in New Mexico, should we keep the Sales outliers as part of our sales predictions?\n",
    "- If we're running this biz in Texas and looking to franchise in New Zealand, should we keep the ouliers or ignore them in the predicted sales analysis?"
   ]
  },
  {
   "cell_type": "markdown",
   "metadata": {},
   "source": [
    " "
   ]
  },
  {
   "cell_type": "code",
   "execution_count": 18,
   "metadata": {},
   "outputs": [],
   "source": [
    "def get_lower_and_upper_bounds(col, mult=1.5):\n",
    "    '''\n",
    "    positional arguments:\n",
    "    col: a pandas Series\n",
    "    keyword arguments:\n",
    "    mult: default 1.5, the magnutude specified for the IQR rule\n",
    "    \n",
    "    returns:\n",
    "    lower_bound, upper_bound: two float values representing the fence values requested\n",
    "    '''\n",
    "    q1 = col.quantile(0.25)\n",
    "    q3 = col.quantile(0.75)\n",
    "    iqr = q3 - q1\n",
    "    lower_bound = q1 - mult * iqr\n",
    "    upper_bound = q3 + mult * iqr\n",
    "    return lower_bound,upper_bound"
   ]
  },
  {
   "cell_type": "code",
   "execution_count": 19,
   "metadata": {},
   "outputs": [
    {
     "name": "stdout",
     "output_type": "stream",
     "text": [
      " Lower bound for Temperature : 17.30000000000001\n",
      " Upper bound for Temperature: 103.69999999999999\n",
      "\n",
      "-----------------\n",
      " Lower bound for Rainfall : 0.26\n",
      " Upper bound for Rainfall: 1.3\n",
      "\n",
      "-----------------\n",
      " Lower bound for Flyers : 4.0\n",
      " Upper bound for Flyers: 76.0\n",
      "\n",
      "-----------------\n",
      " Lower bound for Price : 0.5\n",
      " Upper bound for Price: 0.5\n",
      "\n",
      "-----------------\n",
      " Lower bound for Sales : 5.0\n",
      " Upper bound for Sales: 45.0\n",
      "\n",
      "-----------------\n"
     ]
    }
   ],
   "source": [
    "# at a multiplier of 1.5:\n",
    "outliers = {}\n",
    "for col in df.columns:\n",
    "    if np.issubdtype(df[col].dtype, np.number):\n",
    "        lower_bound, upper_bound = get_lower_and_upper_bounds(df[col])\n",
    "        print(f' Lower bound for {col} : {lower_bound}\\n Upper bound for {col}: {upper_bound}\\n')\n",
    "        print('-----------------')\n",
    "        outliers[col] = {}\n",
    "        outliers[col]['bounds'] = {'upper': upper_bound, 'lower': lower_bound}\n",
    "        outliers[col]['df'] = df[(df[col] > upper_bound) | (df[col] < lower_bound)]\n",
    "    else:\n",
    "        pass"
   ]
  },
  {
   "cell_type": "code",
   "execution_count": 20,
   "metadata": {},
   "outputs": [
    {
     "data": {
      "text/plain": [
       "dict_keys(['Temperature', 'Rainfall', 'Flyers', 'Price', 'Sales'])"
      ]
     },
     "execution_count": 20,
     "metadata": {},
     "output_type": "execute_result"
    }
   ],
   "source": [
    "outliers.keys()"
   ]
  },
  {
   "cell_type": "code",
   "execution_count": 21,
   "metadata": {},
   "outputs": [
    {
     "data": {
      "text/plain": [
       "{'Temperature': {'bounds': {'upper': 103.69999999999999,\n",
       "   'lower': 17.30000000000001},\n",
       "  'df':                Day  Temperature  Rainfall  Flyers  Price  Sales     month\n",
       "  Date                                                                     \n",
       "  2017-12-31  Sunday         15.1       2.5       9    0.5      7  December},\n",
       " 'Rainfall': {'bounds': {'upper': 1.3, 'lower': 0.26},\n",
       "  'df':                   Day  Temperature  Rainfall  Flyers  Price  Sales     month\n",
       "  Date                                                                        \n",
       "  2017-01-01     Sunday         27.0      2.00      15    0.5     10   January\n",
       "  2017-01-02     Monday         28.9      1.33      15    0.5     13   January\n",
       "  2017-01-03    Tuesday         34.5      1.33      27    0.5     15   January\n",
       "  2017-01-06     Friday         25.3      1.54      23    0.5     11   January\n",
       "  2017-01-07   Saturday         32.9      1.54      19    0.5     13   January\n",
       "  2017-01-11  Wednesday         32.6      1.54      23    0.5     12   January\n",
       "  2017-01-12   Thursday         38.2      1.33      16    0.5     14   January\n",
       "  2017-01-13     Friday         37.5      1.33      19    0.5     15   January\n",
       "  2017-01-16     Monday         30.6      1.67      24    0.5     12   January\n",
       "  2017-01-17    Tuesday         32.2      1.43      26    0.5     14   January\n",
       "  2017-01-20     Friday         31.6      1.43      20    0.5     12   January\n",
       "  2017-01-24    Tuesday         28.6      1.54      20    0.5     12   January\n",
       "  2017-01-28   Saturday         34.9      1.33      15    0.5     13   January\n",
       "  2017-01-29     Sunday         35.2      1.33      27    0.5     14   January\n",
       "  2017-12-04     Monday         34.9      1.54      16    0.5     13  December\n",
       "  2017-12-05    Tuesday         22.0      1.82      11    0.5     10  December\n",
       "  2017-12-09   Saturday         31.2      1.43      19    0.5     14  December\n",
       "  2017-12-10     Sunday         31.3      1.82      15    0.5     11  December\n",
       "  2017-12-12    Tuesday         33.5      1.33      22    0.5     15  December\n",
       "  2017-12-13  Wednesday         32.2      1.43      26    0.5     14  December\n",
       "  2017-12-14   Thursday         31.9      1.54      24    0.5     13  December\n",
       "  2017-12-17     Sunday         32.2      1.33      16    0.5     14  December\n",
       "  2017-12-18     Monday         30.9      1.43      27    0.5     13  December\n",
       "  2017-12-21   Thursday         40.5      1.33      23    0.5     15  December\n",
       "  2017-12-22     Friday         30.9      1.54      17    0.5     13  December\n",
       "  2017-12-26    Tuesday         28.9      1.43      23    0.5     13  December\n",
       "  2017-12-30   Saturday         30.9      1.43      22    0.5     13  December\n",
       "  2017-12-31     Sunday         15.1      2.50       9    0.5      7  December},\n",
       " 'Flyers': {'bounds': {'upper': 76.0, 'lower': 4.0},\n",
       "  'df':                Day  Temperature  Rainfall  Flyers  Price  Sales month\n",
       "  Date                                                                 \n",
       "  2017-06-16  Friday         99.3      0.47      77    0.5     41  June\n",
       "  2017-07-14  Friday         92.0      0.50      80    0.5     40  July},\n",
       " 'Price': {'bounds': {'upper': 0.5, 'lower': 0.5},\n",
       "  'df': Empty DataFrame\n",
       "  Columns: [Day, Temperature, Rainfall, Flyers, Price, Sales, month]\n",
       "  Index: []},\n",
       " 'Sales': {'bounds': {'upper': 45.0, 'lower': 5.0},\n",
       "  'df':                  Day  Temperature  Rainfall  Flyers  Price  Sales month\n",
       "  Date                                                                   \n",
       "  2017-07-01  Saturday        102.9      0.47      59    0.5    143  July\n",
       "  2017-07-02    Sunday         93.4      0.51      68    0.5    158  July\n",
       "  2017-07-03    Monday         81.5      0.54      68    0.5    235  July\n",
       "  2017-07-04   Tuesday         84.2      0.59      49    0.5    534  July}}"
      ]
     },
     "execution_count": 21,
     "metadata": {},
     "output_type": "execute_result"
    }
   ],
   "source": [
    "outliers"
   ]
  },
  {
   "cell_type": "code",
   "execution_count": 22,
   "metadata": {
    "scrolled": true
   },
   "outputs": [
    {
     "data": {
      "text/html": [
       "<div>\n",
       "<style scoped>\n",
       "    .dataframe tbody tr th:only-of-type {\n",
       "        vertical-align: middle;\n",
       "    }\n",
       "\n",
       "    .dataframe tbody tr th {\n",
       "        vertical-align: top;\n",
       "    }\n",
       "\n",
       "    .dataframe thead th {\n",
       "        text-align: right;\n",
       "    }\n",
       "</style>\n",
       "<table border=\"1\" class=\"dataframe\">\n",
       "  <thead>\n",
       "    <tr style=\"text-align: right;\">\n",
       "      <th></th>\n",
       "      <th>Day</th>\n",
       "      <th>Temperature</th>\n",
       "      <th>Rainfall</th>\n",
       "      <th>Flyers</th>\n",
       "      <th>Price</th>\n",
       "      <th>Sales</th>\n",
       "      <th>month</th>\n",
       "    </tr>\n",
       "    <tr>\n",
       "      <th>Date</th>\n",
       "      <th></th>\n",
       "      <th></th>\n",
       "      <th></th>\n",
       "      <th></th>\n",
       "      <th></th>\n",
       "      <th></th>\n",
       "      <th></th>\n",
       "    </tr>\n",
       "  </thead>\n",
       "  <tbody>\n",
       "    <tr>\n",
       "      <th>2017-12-31</th>\n",
       "      <td>Sunday</td>\n",
       "      <td>15.1</td>\n",
       "      <td>2.5</td>\n",
       "      <td>9</td>\n",
       "      <td>0.5</td>\n",
       "      <td>7</td>\n",
       "      <td>December</td>\n",
       "    </tr>\n",
       "  </tbody>\n",
       "</table>\n",
       "</div>"
      ],
      "text/plain": [
       "               Day  Temperature  Rainfall  Flyers  Price  Sales     month\n",
       "Date                                                                     \n",
       "2017-12-31  Sunday         15.1       2.5       9    0.5      7  December"
      ]
     },
     "execution_count": 22,
     "metadata": {},
     "output_type": "execute_result"
    }
   ],
   "source": [
    "outliers['Temperature']['df']"
   ]
  },
  {
   "cell_type": "code",
   "execution_count": 23,
   "metadata": {},
   "outputs": [
    {
     "data": {
      "text/plain": [
       "{'bounds': {'upper': 1.3, 'lower': 0.26},\n",
       " 'df':                   Day  Temperature  Rainfall  Flyers  Price  Sales     month\n",
       " Date                                                                        \n",
       " 2017-01-01     Sunday         27.0      2.00      15    0.5     10   January\n",
       " 2017-01-02     Monday         28.9      1.33      15    0.5     13   January\n",
       " 2017-01-03    Tuesday         34.5      1.33      27    0.5     15   January\n",
       " 2017-01-06     Friday         25.3      1.54      23    0.5     11   January\n",
       " 2017-01-07   Saturday         32.9      1.54      19    0.5     13   January\n",
       " 2017-01-11  Wednesday         32.6      1.54      23    0.5     12   January\n",
       " 2017-01-12   Thursday         38.2      1.33      16    0.5     14   January\n",
       " 2017-01-13     Friday         37.5      1.33      19    0.5     15   January\n",
       " 2017-01-16     Monday         30.6      1.67      24    0.5     12   January\n",
       " 2017-01-17    Tuesday         32.2      1.43      26    0.5     14   January\n",
       " 2017-01-20     Friday         31.6      1.43      20    0.5     12   January\n",
       " 2017-01-24    Tuesday         28.6      1.54      20    0.5     12   January\n",
       " 2017-01-28   Saturday         34.9      1.33      15    0.5     13   January\n",
       " 2017-01-29     Sunday         35.2      1.33      27    0.5     14   January\n",
       " 2017-12-04     Monday         34.9      1.54      16    0.5     13  December\n",
       " 2017-12-05    Tuesday         22.0      1.82      11    0.5     10  December\n",
       " 2017-12-09   Saturday         31.2      1.43      19    0.5     14  December\n",
       " 2017-12-10     Sunday         31.3      1.82      15    0.5     11  December\n",
       " 2017-12-12    Tuesday         33.5      1.33      22    0.5     15  December\n",
       " 2017-12-13  Wednesday         32.2      1.43      26    0.5     14  December\n",
       " 2017-12-14   Thursday         31.9      1.54      24    0.5     13  December\n",
       " 2017-12-17     Sunday         32.2      1.33      16    0.5     14  December\n",
       " 2017-12-18     Monday         30.9      1.43      27    0.5     13  December\n",
       " 2017-12-21   Thursday         40.5      1.33      23    0.5     15  December\n",
       " 2017-12-22     Friday         30.9      1.54      17    0.5     13  December\n",
       " 2017-12-26    Tuesday         28.9      1.43      23    0.5     13  December\n",
       " 2017-12-30   Saturday         30.9      1.43      22    0.5     13  December\n",
       " 2017-12-31     Sunday         15.1      2.50       9    0.5      7  December}"
      ]
     },
     "execution_count": 23,
     "metadata": {},
     "output_type": "execute_result"
    }
   ],
   "source": [
    "outliers['Rainfall']"
   ]
  },
  {
   "cell_type": "code",
   "execution_count": 24,
   "metadata": {},
   "outputs": [
    {
     "name": "stdout",
     "output_type": "stream",
     "text": [
      " z score for Temperature is Date\n",
      "2017-01-01   -2.075945\n",
      "2017-01-02   -1.959184\n",
      "2017-01-03   -1.615045\n",
      "2017-01-04   -1.025093\n",
      "2017-01-05   -1.129564\n",
      "                ...   \n",
      "2017-12-27   -1.111128\n",
      "2017-12-28   -1.412249\n",
      "2017-12-29   -1.307778\n",
      "2017-12-30   -1.836277\n",
      "2017-12-31   -2.807241\n",
      "Name: Temperature, Length: 365, dtype: float64\n",
      "\n",
      "-----------------\n",
      " z score for Rainfall is Date\n",
      "2017-01-01    4.286488\n",
      "2017-01-02    1.840253\n",
      "2017-01-03    1.840253\n",
      "2017-01-04    0.817946\n",
      "2017-01-05    0.635391\n",
      "                ...   \n",
      "2017-12-27    0.635391\n",
      "2017-12-28    1.548165\n",
      "2017-12-29    1.548165\n",
      "2017-12-30    2.205363\n",
      "2017-12-31    6.112037\n",
      "Name: Rainfall, Length: 365, dtype: float64\n",
      "\n",
      "-----------------\n",
      " z score for Flyers is Date\n",
      "2017-01-01   -1.922928\n",
      "2017-01-02   -1.922928\n",
      "2017-01-03   -1.011312\n",
      "2017-01-04   -0.935344\n",
      "2017-01-05   -0.555503\n",
      "                ...   \n",
      "2017-12-27   -0.555503\n",
      "2017-12-28   -0.631471\n",
      "2017-12-29   -1.770992\n",
      "2017-12-30   -1.391152\n",
      "2017-12-31   -2.378737\n",
      "Name: Flyers, Length: 365, dtype: float64\n",
      "\n",
      "-----------------\n",
      " z score for Sales is Date\n",
      "2017-01-01   -0.577281\n",
      "2017-01-02   -0.480344\n",
      "2017-01-03   -0.415720\n",
      "2017-01-04   -0.351096\n",
      "2017-01-05   -0.318783\n",
      "                ...   \n",
      "2017-12-27   -0.286471\n",
      "2017-12-28   -0.383408\n",
      "2017-12-29   -0.415720\n",
      "2017-12-30   -0.480344\n",
      "2017-12-31   -0.674217\n",
      "Name: Sales, Length: 365, dtype: float64\n",
      "\n",
      "-----------------\n"
     ]
    }
   ],
   "source": [
    "z_outliers = {}\n",
    "for col in df.columns:\n",
    "    if np.issubdtype(df[col].dtype, np.number):\n",
    "        if df[col].std() != 0:\n",
    "            z_score = (df[col] - df[col].mean()) / df[col].std()\n",
    "            print(f' z score for {col} is {z_score}\\n')\n",
    "            print('-----------------')\n",
    "            z_outliers[col] = {}\n",
    "            z_outliers[col]['z_score'] = {'z_score' : z_score}\n",
    "            z_outliers[col]['df'] = df[((df[col] - df[col].mean()) / df[col].std()) > 2]\n",
    "        else:\n",
    "            pass\n",
    "    else:\n",
    "        pass"
   ]
  },
  {
   "cell_type": "code",
   "execution_count": 25,
   "metadata": {
    "scrolled": true
   },
   "outputs": [
    {
     "data": {
      "text/html": [
       "<div>\n",
       "<style scoped>\n",
       "    .dataframe tbody tr th:only-of-type {\n",
       "        vertical-align: middle;\n",
       "    }\n",
       "\n",
       "    .dataframe tbody tr th {\n",
       "        vertical-align: top;\n",
       "    }\n",
       "\n",
       "    .dataframe thead th {\n",
       "        text-align: right;\n",
       "    }\n",
       "</style>\n",
       "<table border=\"1\" class=\"dataframe\">\n",
       "  <thead>\n",
       "    <tr style=\"text-align: right;\">\n",
       "      <th></th>\n",
       "      <th>Day</th>\n",
       "      <th>Temperature</th>\n",
       "      <th>Rainfall</th>\n",
       "      <th>Flyers</th>\n",
       "      <th>Price</th>\n",
       "      <th>Sales</th>\n",
       "      <th>month</th>\n",
       "    </tr>\n",
       "    <tr>\n",
       "      <th>Date</th>\n",
       "      <th></th>\n",
       "      <th></th>\n",
       "      <th></th>\n",
       "      <th></th>\n",
       "      <th></th>\n",
       "      <th></th>\n",
       "      <th></th>\n",
       "    </tr>\n",
       "  </thead>\n",
       "  <tbody>\n",
       "    <tr>\n",
       "      <th>2017-06-16</th>\n",
       "      <td>Friday</td>\n",
       "      <td>99.3</td>\n",
       "      <td>0.47</td>\n",
       "      <td>77</td>\n",
       "      <td>0.5</td>\n",
       "      <td>41</td>\n",
       "      <td>June</td>\n",
       "    </tr>\n",
       "    <tr>\n",
       "      <th>2017-06-21</th>\n",
       "      <td>Wednesday</td>\n",
       "      <td>94.3</td>\n",
       "      <td>0.47</td>\n",
       "      <td>76</td>\n",
       "      <td>0.5</td>\n",
       "      <td>41</td>\n",
       "      <td>June</td>\n",
       "    </tr>\n",
       "    <tr>\n",
       "      <th>2017-06-26</th>\n",
       "      <td>Monday</td>\n",
       "      <td>102.6</td>\n",
       "      <td>0.47</td>\n",
       "      <td>60</td>\n",
       "      <td>0.5</td>\n",
       "      <td>42</td>\n",
       "      <td>June</td>\n",
       "    </tr>\n",
       "    <tr>\n",
       "      <th>2017-07-01</th>\n",
       "      <td>Saturday</td>\n",
       "      <td>102.9</td>\n",
       "      <td>0.47</td>\n",
       "      <td>59</td>\n",
       "      <td>0.5</td>\n",
       "      <td>143</td>\n",
       "      <td>July</td>\n",
       "    </tr>\n",
       "    <tr>\n",
       "      <th>2017-07-02</th>\n",
       "      <td>Sunday</td>\n",
       "      <td>93.4</td>\n",
       "      <td>0.51</td>\n",
       "      <td>68</td>\n",
       "      <td>0.5</td>\n",
       "      <td>158</td>\n",
       "      <td>July</td>\n",
       "    </tr>\n",
       "    <tr>\n",
       "      <th>2017-07-10</th>\n",
       "      <td>Monday</td>\n",
       "      <td>98.0</td>\n",
       "      <td>0.49</td>\n",
       "      <td>66</td>\n",
       "      <td>0.5</td>\n",
       "      <td>40</td>\n",
       "      <td>July</td>\n",
       "    </tr>\n",
       "    <tr>\n",
       "      <th>2017-07-18</th>\n",
       "      <td>Tuesday</td>\n",
       "      <td>99.3</td>\n",
       "      <td>0.47</td>\n",
       "      <td>76</td>\n",
       "      <td>0.5</td>\n",
       "      <td>41</td>\n",
       "      <td>July</td>\n",
       "    </tr>\n",
       "    <tr>\n",
       "      <th>2017-07-22</th>\n",
       "      <td>Saturday</td>\n",
       "      <td>99.6</td>\n",
       "      <td>0.47</td>\n",
       "      <td>49</td>\n",
       "      <td>0.5</td>\n",
       "      <td>42</td>\n",
       "      <td>July</td>\n",
       "    </tr>\n",
       "    <tr>\n",
       "      <th>2017-07-27</th>\n",
       "      <td>Thursday</td>\n",
       "      <td>97.9</td>\n",
       "      <td>0.47</td>\n",
       "      <td>74</td>\n",
       "      <td>0.5</td>\n",
       "      <td>43</td>\n",
       "      <td>July</td>\n",
       "    </tr>\n",
       "  </tbody>\n",
       "</table>\n",
       "</div>"
      ],
      "text/plain": [
       "                  Day  Temperature  Rainfall  Flyers  Price  Sales month\n",
       "Date                                                                    \n",
       "2017-06-16     Friday         99.3      0.47      77    0.5     41  June\n",
       "2017-06-21  Wednesday         94.3      0.47      76    0.5     41  June\n",
       "2017-06-26     Monday        102.6      0.47      60    0.5     42  June\n",
       "2017-07-01   Saturday        102.9      0.47      59    0.5    143  July\n",
       "2017-07-02     Sunday         93.4      0.51      68    0.5    158  July\n",
       "2017-07-10     Monday         98.0      0.49      66    0.5     40  July\n",
       "2017-07-18    Tuesday         99.3      0.47      76    0.5     41  July\n",
       "2017-07-22   Saturday         99.6      0.47      49    0.5     42  July\n",
       "2017-07-27   Thursday         97.9      0.47      74    0.5     43  July"
      ]
     },
     "execution_count": 25,
     "metadata": {},
     "output_type": "execute_result"
    }
   ],
   "source": [
    "z_outliers['Temperature']['df']"
   ]
  },
  {
   "cell_type": "code",
   "execution_count": 26,
   "metadata": {},
   "outputs": [
    {
     "data": {
      "text/plain": [
       "count    365.000000\n",
       "mean      40.312329\n",
       "std       13.163427\n",
       "min        9.000000\n",
       "25%       31.000000\n",
       "50%       39.000000\n",
       "75%       49.000000\n",
       "max       80.000000\n",
       "Name: Flyers, dtype: float64"
      ]
     },
     "execution_count": 26,
     "metadata": {},
     "output_type": "execute_result"
    }
   ],
   "source": [
    "df.Flyers.describe()"
   ]
  },
  {
   "cell_type": "code",
   "execution_count": null,
   "metadata": {},
   "outputs": [],
   "source": []
  }
 ],
 "metadata": {
  "kernelspec": {
   "display_name": "Python 3 (ipykernel)",
   "language": "python",
   "name": "python3"
  },
  "language_info": {
   "codemirror_mode": {
    "name": "ipython",
    "version": 3
   },
   "file_extension": ".py",
   "mimetype": "text/x-python",
   "name": "python",
   "nbconvert_exporter": "python",
   "pygments_lexer": "ipython3",
   "version": "3.9.13"
  }
 },
 "nbformat": 4,
 "nbformat_minor": 4
}
